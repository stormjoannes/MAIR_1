{
 "cells": [
  {
   "cell_type": "code",
   "execution_count": 1,
   "id": "71af04b7",
   "metadata": {},
   "outputs": [
    {
     "name": "stdout",
     "output_type": "stream",
     "text": [
      "WARNING:tensorflow:From C:\\Users\\storm\\AppData\\Local\\Programs\\Python\\Python310\\lib\\site-packages\\keras\\src\\losses.py:2976: The name tf.losses.sparse_softmax_cross_entropy is deprecated. Please use tf.compat.v1.losses.sparse_softmax_cross_entropy instead.\n",
      "\n"
     ]
    }
   ],
   "source": [
    "import re\n",
    "import numpy as np\n",
    "import pandas as pd\n",
    "import tensorflow as tf\n",
    "from tensorflow.keras import layers, models\n",
    "from sklearn.preprocessing import LabelEncoder\n",
    "from sklearn.model_selection import train_test_split\n",
    "from tensorflow.keras.preprocessing.text import Tokenizer\n",
    "from tensorflow.keras.preprocessing.sequence import pad_sequences"
   ]
  },
  {
   "cell_type": "markdown",
   "id": "def99d1b-0cb4-4920-9bc7-4876fa895215",
   "metadata": {},
   "source": [
    "# Read data"
   ]
  },
  {
   "cell_type": "code",
   "execution_count": 2,
   "id": "2f16444b",
   "metadata": {
    "scrolled": true
   },
   "outputs": [],
   "source": [
    "with open(\"dialog_acts.dat\", 'r') as file:\n",
    "    data = {'label': [], 'sentence': [], 'prediction': []}\n",
    "    \n",
    "    for line in file:\n",
    "        words = line.split(maxsplit=1)\n",
    "        if len(words) > 1:\n",
    "            data['label'].append(words[0])\n",
    "            data['sentence'].append(words[1])\n",
    "        else:\n",
    "            data['label'].append(words[0])\n",
    "            data['sentence'].append('')"
   ]
  },
  {
   "cell_type": "markdown",
   "id": "00dddf81-7b38-4307-97df-ebc1e1b38061",
   "metadata": {},
   "source": [
    "# inform Baseline"
   ]
  },
  {
   "cell_type": "code",
   "execution_count": 3,
   "id": "0acad049",
   "metadata": {},
   "outputs": [],
   "source": [
    "for sentence in data[\"sentence\"]:\n",
    "    data[\"prediction\"].append(\"inform\")"
   ]
  },
  {
   "cell_type": "code",
   "execution_count": 4,
   "id": "d9ac3de3",
   "metadata": {},
   "outputs": [
    {
     "name": "stdout",
     "output_type": "stream",
     "text": [
      "Accuracy: 39.84%\n"
     ]
    }
   ],
   "source": [
    "if len(data['label']) != len(data['prediction']):\n",
    "    print(\"Error: The number of labels and predictions do not match.\")\n",
    "else:\n",
    "    correct = 0\n",
    "    total = len(data['label'])\n",
    "\n",
    "    for i in range(total):\n",
    "        if data['label'][i] == data['prediction'][i]:\n",
    "            correct += 1\n",
    "\n",
    "    accuracy = correct / total * 100\n",
    "    print(f\"Accuracy: {accuracy:.2f}%\")"
   ]
  },
  {
   "cell_type": "markdown",
   "id": "581933d1-ed55-41d2-ba11-1e71fa958466",
   "metadata": {},
   "source": [
    "# Rule based baseline"
   ]
  },
  {
   "cell_type": "code",
   "execution_count": 5,
   "id": "da4e7e13",
   "metadata": {},
   "outputs": [],
   "source": [
    "def count_labels(data):\n",
    "    label_counts = {}\n",
    "\n",
    "    # Count the occurrences of each label\n",
    "    for label in data['label']:\n",
    "        if label in label_counts:\n",
    "            label_counts[label] += 1\n",
    "        else:\n",
    "            label_counts[label] = 1\n",
    "\n",
    "    # Print the count of each label\n",
    "    for label, count in label_counts.items():\n",
    "        print(f\"{label}: {count}\")"
   ]
  },
  {
   "cell_type": "code",
   "execution_count": 6,
   "id": "7a9a0151",
   "metadata": {},
   "outputs": [
    {
     "name": "stdout",
     "output_type": "stream",
     "text": [
      "inform: 10160\n",
      "confirm: 172\n",
      "affirm: 1156\n",
      "request: 6494\n",
      "thankyou: 3259\n",
      "null: 1612\n",
      "bye: 266\n",
      "reqalts: 1747\n",
      "negate: 435\n",
      "hello: 93\n",
      "repeat: 33\n",
      "ack: 28\n",
      "restart: 14\n",
      "deny: 27\n",
      "reqmore: 5\n"
     ]
    }
   ],
   "source": [
    "count_labels(data)"
   ]
  },
  {
   "cell_type": "code",
   "execution_count": 7,
   "id": "4577df02-9324-4d9a-bcba-b19d7f79ee07",
   "metadata": {},
   "outputs": [],
   "source": [
    "keywords = {\n",
    "    'ack': ['kay', 'okay'],\n",
    "    'affirm': ['yes', 'right', 'yeah'],\n",
    "    'thankyou': ['thank'],\n",
    "    'bye': ['bye', 'goodbye'],\n",
    "    'confirm': ['is it', 'does it', 'do they'],\n",
    "    'deny': ['wrong', 'dont', 'not'],\n",
    "    'hello': ['hi', 'hello', 'halo', 'welcome'],\n",
    "    'inform': [\n",
    "        'looking', 'restaurant', 'any', 'food', 'part', 'town', 'cheap', 'expensive', \n",
    "        'mediterranean', 'seafood', 'east', 'west', 'north', 'south', 'asian', \n",
    "        'oriental', 'scottish', 'matter', 'european', 'want', 'care', 'austrian', \n",
    "        'center', 'corsica', 'international', 'priced', 'moderately', 'moderate', \n",
    "        'central', 'eirtrean', 'spanish', 'venue', 'australian', 'turkish'\n",
    "    ],\n",
    "    'negate': ['no'],\n",
    "    'null': [],\n",
    "    'repeat': ['repeat', 'again', 'back'],\n",
    "    'reqalts': ['how about', 'what about', 'is there', 'anything else'],\n",
    "    'reqmore': ['more'],\n",
    "    'request': ['address', 'phone', 'number', 'post code', 'how much', 'where', 'whats', 'what is', 'price range'],\n",
    "    'restart': ['start', 'reset'],\n",
    "}"
   ]
  },
  {
   "cell_type": "code",
   "execution_count": 8,
   "id": "365c3614-b67b-442f-b397-f985834a497d",
   "metadata": {},
   "outputs": [],
   "source": [
    "def classify_sentence(sentence, keywords):\n",
    "    # Convert the sentence to lowercase\n",
    "    sentence_lower = sentence.lower()\n",
    "    \n",
    "    # Sort keywords by length in descending order to match longer phrases first\n",
    "    sorted_keywords = sorted(((label, keyword) for label, kw_list in keywords.items() for keyword in kw_list),\n",
    "                              key=lambda x: len(x[1]), reverse=True)\n",
    "    \n",
    "    # Check if any keyword is in the sentence\n",
    "    for label, keyword in sorted_keywords:\n",
    "        if keyword in sentence_lower:\n",
    "            return label\n",
    "    \n",
    "    # Return 'null' if no keywords are found\n",
    "    return 'null'"
   ]
  },
  {
   "cell_type": "code",
   "execution_count": 9,
   "id": "e0e1515e",
   "metadata": {
    "scrolled": true
   },
   "outputs": [],
   "source": [
    "data['prediction'] = [classify_sentence(sentence, keywords) for sentence in data['sentence']]"
   ]
  },
  {
   "cell_type": "code",
   "execution_count": 10,
   "id": "077c8afd",
   "metadata": {},
   "outputs": [
    {
     "name": "stdout",
     "output_type": "stream",
     "text": [
      "81.48307909493745\n"
     ]
    }
   ],
   "source": [
    "def calculate_accuracy_filtered(labels, predictions):\n",
    "    filtered_labels = []\n",
    "    filtered_predictions = []\n",
    "    \n",
    "    for label, prediction in zip(labels, predictions):\n",
    "        filtered_labels.append(label)\n",
    "        filtered_predictions.append(prediction)\n",
    "    \n",
    "    if len(filtered_labels) != len(filtered_predictions):\n",
    "        raise ValueError(\"Filtered labels and predictions lists must be of the same length.\")\n",
    "    \n",
    "    correct = sum(1 for l, p in zip(filtered_labels, filtered_predictions) if l == p)\n",
    "    total = len(filtered_labels)\n",
    "    accuracy = (correct / total) * 100 if total > 0 else 0\n",
    "    return accuracy\n",
    "\n",
    "accuracy = calculate_accuracy_filtered(data['label'], data['prediction'])\n",
    "print(accuracy)"
   ]
  },
  {
   "cell_type": "code",
   "execution_count": 11,
   "id": "662b3482-e848-41fe-a7d0-246d94f3a16e",
   "metadata": {},
   "outputs": [
    {
     "name": "stdout",
     "output_type": "stream",
     "text": [
      "inform, Accuracy: 79.60%\n",
      "confirm, Accuracy: 51.16%\n",
      "affirm, Accuracy: 80.62%\n",
      "request, Accuracy: 88.10%\n",
      "thankyou, Accuracy: 87.11%\n",
      "null, Accuracy: 61.29%\n",
      "bye, Accuracy: 74.44%\n",
      "reqalts, Accuracy: 85.00%\n",
      "negate, Accuracy: 70.11%\n",
      "hello, Accuracy: 49.46%\n",
      "repeat, Accuracy: 100.00%\n",
      "ack, Accuracy: 60.71%\n",
      "restart, Accuracy: 92.86%\n",
      "deny, Accuracy: 81.48%\n",
      "reqmore, Accuracy: 100.00%\n"
     ]
    }
   ],
   "source": [
    "from collections import defaultdict\n",
    "\n",
    "def calculate_accuracy_per_label(labels, predictions):\n",
    "    label_counts = defaultdict(int)  # To count occurrences of each label\n",
    "    correct_counts = defaultdict(int)  # To count correct predictions for each label\n",
    "\n",
    "    for label, prediction in zip(labels, predictions):\n",
    "        label_counts[label] += 1\n",
    "        if label == prediction:\n",
    "            correct_counts[label] += 1\n",
    "\n",
    "    accuracy_per_label = {}\n",
    "    for label in label_counts:\n",
    "        total = label_counts[label]\n",
    "        correct = correct_counts[label]\n",
    "        accuracy_per_label[label] = (correct / total) * 100 if total > 0 else 0\n",
    "    \n",
    "    return accuracy_per_label\n",
    "\n",
    "accuracy_per_label = calculate_accuracy_per_label(data['label'], data['prediction'])\n",
    "\n",
    "# Print or inspect the accuracy per label\n",
    "for label, accuracy in accuracy_per_label.items():\n",
    "    print(f\"{label}, Accuracy: {accuracy:.2f}%\")\n"
   ]
  },
  {
   "cell_type": "code",
   "execution_count": 12,
   "id": "429d7738-08be-47a8-95ef-3947c9af47aa",
   "metadata": {},
   "outputs": [],
   "source": [
    "def classify_sentence(sentence):\n",
    "    for label, words in keywords.items():\n",
    "        if any(word in sentence.lower() for word in words):\n",
    "            return label\n",
    "    return 'Unknown'  # Default label if no keywords are matched"
   ]
  },
  {
   "cell_type": "code",
   "execution_count": 43,
   "id": "36a12eae-1bba-4dca-8c5b-b29d32555677",
   "metadata": {},
   "outputs": [],
   "source": [
    "def manual_test_model(classify_function):\n",
    "    while True:\n",
    "        sentence = input(\"Enter a sentence to classify (or type 'exit' to stop): \")\n",
    "        \n",
    "        if sentence.lower() == 'exit':\n",
    "            print(\"Exiting the classifier.\")\n",
    "            break\n",
    "        \n",
    "        label = classify_function(sentence)\n",
    "        print(f\"Classified as: {label}\")"
   ]
  },
  {
   "cell_type": "code",
   "execution_count": 45,
   "id": "d29f8cef-af59-49e7-be7a-37255d0c69ae",
   "metadata": {},
   "outputs": [
    {
     "name": "stdin",
     "output_type": "stream",
     "text": [
      "Enter a sentence to classify (or type 'exit' to stop):  exit\n"
     ]
    },
    {
     "name": "stdout",
     "output_type": "stream",
     "text": [
      "Exiting the classifier.\n"
     ]
    }
   ],
   "source": [
    "manual_test_model(classify_sentence)"
   ]
  },
  {
   "cell_type": "markdown",
   "id": "717aa010-c1cb-43fd-814d-674c39aca6dd",
   "metadata": {},
   "source": [
    "# Feed Forward Neural Network"
   ]
  },
  {
   "cell_type": "code",
   "execution_count": 15,
   "id": "94eb5aea-5f47-447d-925d-c4fd32855795",
   "metadata": {},
   "outputs": [],
   "source": [
    "from sklearn.metrics import confusion_matrix as sklearn_confusion_matrix\n",
    "import seaborn as sns\n",
    "import matplotlib.pyplot as plt\n",
    "from sklearn.metrics import classification_report\n",
    "import numpy as np"
   ]
  },
  {
   "cell_type": "code",
   "execution_count": 16,
   "id": "3745d7a5-4350-46ce-8ca7-c2dda86f5d75",
   "metadata": {},
   "outputs": [],
   "source": [
    "# Convert all labels to numbers\n",
    "le = LabelEncoder()\n",
    "data['label'] = le.fit_transform(data['label'])"
   ]
  },
  {
   "cell_type": "code",
   "execution_count": 17,
   "id": "d276ba05-68df-4389-8a89-ad03313625fc",
   "metadata": {},
   "outputs": [],
   "source": [
    "max_words = 10000  # Maximum number of words\n",
    "max_len = 128  # Maximum sentence length"
   ]
  },
  {
   "cell_type": "code",
   "execution_count": 18,
   "id": "1fa736ac-01b3-41f2-b89e-f1990048a007",
   "metadata": {},
   "outputs": [],
   "source": [
    "# Tokenize all words\n",
    "tokenizer = Tokenizer(num_words=max_words, oov_token='<OOV>')\n",
    "tokenizer.fit_on_texts(data['sentence'])\n",
    "sequences = tokenizer.texts_to_sequences(data['sentence'])\n",
    "padded_sequences = pad_sequences(sequences, maxlen=max_len, padding='post')"
   ]
  },
  {
   "cell_type": "code",
   "execution_count": 19,
   "id": "8f8b9803-5917-4794-b5bd-c240051851e1",
   "metadata": {},
   "outputs": [],
   "source": [
    "train_sentences, test_sentences, train_labels, test_labels = train_test_split(\n",
    "    padded_sequences, data['label'], test_size=0.2, random_state=42\n",
    ")"
   ]
  },
  {
   "cell_type": "code",
   "execution_count": 20,
   "id": "309b4136-31d8-48d5-a49e-c4d401862876",
   "metadata": {},
   "outputs": [],
   "source": [
    "def create_model():\n",
    "    model = models.Sequential()\n",
    "    \n",
    "    model.add(layers.Embedding(input_dim=max_words, output_dim=128, input_length=max_len))\n",
    "    model.add(layers.Flatten())\n",
    "    model.add(layers.Dense(256, activation='relu'))\n",
    "    model.add(layers.Dense(15, activation='softmax'))  # 15 classes\n",
    "    \n",
    "    model.compile(optimizer=tf.keras.optimizers.Adam(learning_rate=0.001),\n",
    "                  loss='sparse_categorical_crossentropy',\n",
    "                  metrics=['accuracy'])\n",
    "    \n",
    "    return model"
   ]
  },
  {
   "cell_type": "code",
   "execution_count": 21,
   "id": "6254e620-ae3a-4253-a129-b58ac4be7cdd",
   "metadata": {},
   "outputs": [
    {
     "name": "stdout",
     "output_type": "stream",
     "text": [
      "WARNING:tensorflow:From C:\\Users\\storm\\AppData\\Local\\Programs\\Python\\Python310\\lib\\site-packages\\keras\\src\\backend.py:873: The name tf.get_default_graph is deprecated. Please use tf.compat.v1.get_default_graph instead.\n",
      "\n",
      "Model: \"sequential\"\n",
      "_________________________________________________________________\n",
      " Layer (type)                Output Shape              Param #   \n",
      "=================================================================\n",
      " embedding (Embedding)       (None, 128, 128)          1280000   \n",
      "                                                                 \n",
      " flatten (Flatten)           (None, 16384)             0         \n",
      "                                                                 \n",
      " dense (Dense)               (None, 256)               4194560   \n",
      "                                                                 \n",
      " dense_1 (Dense)             (None, 15)                3855      \n",
      "                                                                 \n",
      "=================================================================\n",
      "Total params: 5478415 (20.90 MB)\n",
      "Trainable params: 5478415 (20.90 MB)\n",
      "Non-trainable params: 0 (0.00 Byte)\n",
      "_________________________________________________________________\n"
     ]
    }
   ],
   "source": [
    "model = create_model()\n",
    "model.summary()"
   ]
  },
  {
   "cell_type": "code",
   "execution_count": 22,
   "id": "c904880a-8b30-465d-b46a-fda817d66920",
   "metadata": {},
   "outputs": [
    {
     "name": "stdout",
     "output_type": "stream",
     "text": [
      "Epoch 1/5\n",
      "WARNING:tensorflow:From C:\\Users\\storm\\AppData\\Local\\Programs\\Python\\Python310\\lib\\site-packages\\keras\\src\\utils\\tf_utils.py:492: The name tf.ragged.RaggedTensorValue is deprecated. Please use tf.compat.v1.ragged.RaggedTensorValue instead.\n",
      "\n",
      "WARNING:tensorflow:From C:\\Users\\storm\\AppData\\Local\\Programs\\Python\\Python310\\lib\\site-packages\\keras\\src\\engine\\base_layer_utils.py:384: The name tf.executing_eagerly_outside_functions is deprecated. Please use tf.compat.v1.executing_eagerly_outside_functions instead.\n",
      "\n",
      "1020/1020 [==============================] - 32s 31ms/step - loss: 0.2849 - accuracy: 0.9206 - val_loss: 0.0927 - val_accuracy: 0.9745\n",
      "Epoch 2/5\n",
      "1020/1020 [==============================] - 31s 31ms/step - loss: 0.0678 - accuracy: 0.9816 - val_loss: 0.0900 - val_accuracy: 0.9757\n",
      "Epoch 3/5\n",
      "1020/1020 [==============================] - 31s 30ms/step - loss: 0.0374 - accuracy: 0.9890 - val_loss: 0.0836 - val_accuracy: 0.9794\n",
      "Epoch 4/5\n",
      "1020/1020 [==============================] - 32s 31ms/step - loss: 0.0281 - accuracy: 0.9907 - val_loss: 0.0843 - val_accuracy: 0.9782\n",
      "Epoch 5/5\n",
      "1020/1020 [==============================] - 32s 32ms/step - loss: 0.0169 - accuracy: 0.9945 - val_loss: 0.0927 - val_accuracy: 0.9804\n"
     ]
    }
   ],
   "source": [
    "history = model.fit(train_sentences, train_labels, epochs=5, batch_size=16, validation_split=0.2)"
   ]
  },
  {
   "cell_type": "code",
   "execution_count": 31,
   "id": "36401d78-ccb8-49cb-be5e-d5c4c8cac7a6",
   "metadata": {},
   "outputs": [],
   "source": [
    "def model_report(model, sentences):\n",
    "    # Make predictions on the test set\n",
    "    predictions = model.predict(test_sentences)\n",
    "    predicted_labels = np.argmax(predictions, axis=1)\n",
    "    \n",
    "    # Ensure all 15 classes are included in the report\n",
    "    all_classes = list(range(15))\n",
    "    \n",
    "    # Generate the classification report\n",
    "    report = classification_report(test_labels, predicted_labels, labels=all_classes, target_names=[f'{le.inverse_transform([i])[0]}' for i in all_classes])\n",
    "    \n",
    "    print(report)"
   ]
  },
  {
   "cell_type": "code",
   "execution_count": 32,
   "id": "97fe02ef-7e7d-428c-86c1-47d4cd78f9f5",
   "metadata": {},
   "outputs": [
    {
     "name": "stdout",
     "output_type": "stream",
     "text": [
      "160/160 [==============================] - 0s 2ms/step\n",
      "              precision    recall  f1-score   support\n",
      "\n",
      "         ack       0.50      0.20      0.29         5\n",
      "      affirm       1.00      0.98      0.99       247\n",
      "         bye       0.90      0.98      0.94        46\n",
      "     confirm       0.89      0.94      0.91        33\n",
      "        deny       1.00      0.71      0.83         7\n",
      "       hello       1.00      1.00      1.00        16\n",
      "      inform       0.99      0.98      0.99      2041\n",
      "      negate       1.00      0.99      0.99        81\n",
      "        null       0.92      0.99      0.96       309\n",
      "      repeat       1.00      0.75      0.86         4\n",
      "     reqalts       0.97      0.95      0.96       368\n",
      "     reqmore       1.00      1.00      1.00         2\n",
      "     request       1.00      1.00      1.00      1305\n",
      "     restart       1.00      1.00      1.00         3\n",
      "    thankyou       1.00      0.99      0.99       634\n",
      "\n",
      "    accuracy                           0.99      5101\n",
      "   macro avg       0.94      0.90      0.91      5101\n",
      "weighted avg       0.99      0.99      0.98      5101\n",
      "\n"
     ]
    }
   ],
   "source": [
    "model_report(model, test_sentences)"
   ]
  },
  {
   "cell_type": "code",
   "execution_count": 40,
   "id": "8a916508-9aa8-4bba-96aa-55f11ccd91ce",
   "metadata": {},
   "outputs": [],
   "source": [
    "def confusion_matrix(sentences, labels):\n",
    "    # Get the predictions for the test set\n",
    "    y_pred = model.predict(sentences)\n",
    "    y_pred_labels = np.argmax(y_pred, axis=1)  # Convert probabilities to predicted class labels\n",
    "    \n",
    "    # Use test_labels directly if they are not one-hot encoded\n",
    "    y_true_labels = labels\n",
    "    \n",
    "    # Generate confusion matrix\n",
    "    cm = sklearn_confusion_matrix(y_true_labels, y_pred_labels)\n",
    "    \n",
    "    # Get the actual class names (the inverse transform from LabelEncoder)\n",
    "    class_names = le.inverse_transform(np.unique(y_true_labels))\n",
    "    \n",
    "    # Plot the confusion matrix with actual labels\n",
    "    plt.figure(figsize=(10, 8))\n",
    "    sns.heatmap(cm, annot=True, fmt='d', cmap='Blues', xticklabels=class_names, yticklabels=class_names)\n",
    "    plt.xlabel('Predicted')\n",
    "    plt.ylabel('True')\n",
    "    plt.title('Confusion Matrix')\n",
    "    plt.show()"
   ]
  },
  {
   "cell_type": "code",
   "execution_count": 41,
   "id": "3c907738-fe7e-400f-9573-3d505b32065f",
   "metadata": {},
   "outputs": [
    {
     "name": "stdout",
     "output_type": "stream",
     "text": [
      "160/160 [==============================] - 0s 2ms/step\n"
     ]
    },
    {
     "data": {
      "image/png": "[encoded data removed]",
      "text/plain": [
       "<Figure size 1000x800 with 2 Axes>"
      ]
     },
     "metadata": {},
     "output_type": "display_data"
    }
   ],
   "source": [
    "confusion_matrix(test_sentences, test_labels)"
   ]
  },
  {
   "cell_type": "code",
   "execution_count": 26,
   "id": "18fe83ce-4d19-4c05-852c-91f494f2c6dc",
   "metadata": {},
   "outputs": [
    {
     "name": "stdout",
     "output_type": "stream",
     "text": [
      "\u001b[1m160/160\u001b[0m \u001b[32m━━━━━━━━━━━━━━━━━━━━\u001b[0m\u001b[37m\u001b[0m \u001b[1m1s\u001b[0m 4ms/step - accuracy: 0.9819 - loss: 0.0796\n",
      "Test Accuracy: 98.08%\n"
     ]
    }
   ],
   "source": [
    "test_loss, test_acc = model.evaluate(test_sentences, test_labels)\n",
    "print(f\"Test Accuracy: {test_acc * 100:.2f}%\")"
   ]
  },
  {
   "cell_type": "code",
   "execution_count": 27,
   "id": "12d6167d-e5a8-44c8-873a-d3bcea074bae",
   "metadata": {},
   "outputs": [],
   "source": [
    "unique_labels = sorted(list(set(data['label'])))"
   ]
  },
  {
   "cell_type": "code",
   "execution_count": 28,
   "id": "372ed80f-c585-4199-882f-5a7bb8676394",
   "metadata": {},
   "outputs": [],
   "source": [
    "def classify_sentence_fnn(sentence):\n",
    "    # Tokenize and pad the input sentence\n",
    "    sequence = tokenizer.texts_to_sequences([sentence])\n",
    "    padded_sequence = pad_sequences(sequence, maxlen=128, padding='post')\n",
    "    \n",
    "    # Get prediction from the model\n",
    "    prediction = model.predict(padded_sequence)\n",
    "    \n",
    "    # Get the index of the highest probability\n",
    "    predicted_label_index = np.argmax(prediction, axis=1)[0]\n",
    "    predicted_label = le.inverse_transform([predicted_label_index])[0]\n",
    "\n",
    "    return predicted_label"
   ]
  },
  {
   "cell_type": "code",
   "execution_count": null,
   "id": "54551130-713e-4c67-9adf-380dc8579a3f",
   "metadata": {},
   "outputs": [
    {
     "name": "stdout",
     "output_type": "stream",
     "text": [
      "Enter a sentence to classify (or type 'exit' to stop): Where can i find a restaurant in the centre?\n",
      "\u001b[1m1/1\u001b[0m \u001b[32m━━━━━━━━━━━━━━━━━━━━\u001b[0m\u001b[37m\u001b[0m \u001b[1m0s\u001b[0m 44ms/step\n",
      "Classified as: request\n",
      "Enter a sentence to classify (or type 'exit' to stop): Hi, where can i find good place for food?\n",
      "\u001b[1m1/1\u001b[0m \u001b[32m━━━━━━━━━━━━━━━━━━━━\u001b[0m\u001b[37m\u001b[0m \u001b[1m0s\u001b[0m 36ms/step\n",
      "Classified as: request\n",
      "Enter a sentence to classify (or type 'exit' to stop): Hello! Where can i find food?\n",
      "\u001b[1m1/1\u001b[0m \u001b[32m━━━━━━━━━━━━━━━━━━━━\u001b[0m\u001b[37m\u001b[0m \u001b[1m0s\u001b[0m 36ms/step\n",
      "Classified as: hello\n",
      "Enter a sentence to classify (or type 'exit' to stop): Hello! Where can i find a place to eat?\n",
      "\u001b[1m1/1\u001b[0m \u001b[32m━━━━━━━━━━━━━━━━━━━━\u001b[0m\u001b[37m\u001b[0m \u001b[1m0s\u001b[0m 36ms/step\n",
      "Classified as: hello\n",
      "Enter a sentence to classify (or type 'exit' to stop): Thankyou, and where can i repair my phone?\n",
      "\u001b[1m1/1\u001b[0m \u001b[32m━━━━━━━━━━━━━━━━━━━━\u001b[0m\u001b[37m\u001b[0m \u001b[1m0s\u001b[0m 51ms/step\n",
      "Classified as: request\n",
      "Enter a sentence to classify (or type 'exit' to stop): Thankyou, and how about Paris?\n",
      "\u001b[1m1/1\u001b[0m \u001b[32m━━━━━━━━━━━━━━━━━━━━\u001b[0m\u001b[37m\u001b[0m \u001b[1m0s\u001b[0m 44ms/step\n",
      "Classified as: reqalts\n",
      "Enter a sentence to classify (or type 'exit' to stop): Thankyou, But can you repeat that?\n",
      "\u001b[1m1/1\u001b[0m \u001b[32m━━━━━━━━━━━━━━━━━━━━\u001b[0m\u001b[37m\u001b[0m \u001b[1m0s\u001b[0m 54ms/step\n",
      "Classified as: repeat\n",
      "Enter a sentence to classify (or type 'exit' to stop): Thankyou, but can you restart?\n",
      "\u001b[1m1/1\u001b[0m \u001b[32m━━━━━━━━━━━━━━━━━━━━\u001b[0m\u001b[37m\u001b[0m \u001b[1m0s\u001b[0m 50ms/step\n",
      "Classified as: null\n",
      "Enter a sentence to classify (or type 'exit' to stop): Hello! Where can i find a place to eat?\n",
      "\u001b[1m1/1\u001b[0m \u001b[32m━━━━━━━━━━━━━━━━━━━━\u001b[0m\u001b[37m\u001b[0m \u001b[1m0s\u001b[0m 54ms/step\n",
      "Classified as: hello\n"
     ]
    }
   ],
   "source": [
    "manual_test_model(classify_sentence_fnn)"
   ]
  },
  {
   "cell_type": "markdown",
   "id": "8955097c-5566-42ba-9e16-381d71ba7b47",
   "metadata": {},
   "source": [
    "### Deduplicate"
   ]
  },
  {
   "cell_type": "code",
   "execution_count": null,
   "id": "21498da7-e18d-47c5-bfbb-c647c3ce2db6",
   "metadata": {},
   "outputs": [],
   "source": [
    "df = pd.DataFrame(data)\n",
    "df_cleaned = df.drop_duplicates(subset=['label', 'sentence'])\n",
    "data_deduplicate = df_cleaned.to_dict(orient='list')\n",
    "data_deduplicate['label'] = np.array(data_deduplicate['label'])"
   ]
  },
  {
   "cell_type": "code",
   "execution_count": null,
   "id": "49eb105f-3057-40cd-a848-8c5c6a0ac76e",
   "metadata": {},
   "outputs": [],
   "source": [
    "# Convert all labels to numbers\n",
    "le_dedup = LabelEncoder()\n",
    "data_deduplicate['label'] = le_dedup.fit_transform(data_deduplicate['label'])"
   ]
  },
  {
   "cell_type": "code",
   "execution_count": null,
   "id": "0b41784a-c9d4-4495-b8e9-fc5cf34f4d09",
   "metadata": {},
   "outputs": [],
   "source": [
    "print(len(data['sentence']))\n",
    "print(len(data_deduplicate['sentence']))"
   ]
  },
  {
   "cell_type": "code",
   "execution_count": null,
   "id": "bb73d15e-847d-4ddd-a640-ea7789780551",
   "metadata": {},
   "outputs": [],
   "source": [
    "# Tokenize all words\n",
    "tokenizer_dedup = Tokenizer(num_words=max_words, oov_token='<OOV>')\n",
    "tokenizer_dedup.fit_on_texts(data_deduplicate['sentence'])\n",
    "sequences_dedup = tokenizer_dedup.texts_to_sequences(data_deduplicate['sentence'])\n",
    "padded_sequences_dedup = pad_sequences(sequences_dedup, maxlen=max_len, padding='post')"
   ]
  },
  {
   "cell_type": "code",
   "execution_count": null,
   "id": "b1556b52-4ad6-4d96-92b2-771793c4c2b1",
   "metadata": {},
   "outputs": [],
   "source": [
    "train_sentences_dedup, test_sentences_dedup, train_labels_dedup, test_labels_dedup = train_test_split(\n",
    "    padded_sequences_dedup, data_deduplicate['label'], test_size=0.2, random_state=42\n",
    ")"
   ]
  },
  {
   "cell_type": "code",
   "execution_count": null,
   "id": "29350b2b-9548-4694-ac25-49fc92d24ade",
   "metadata": {},
   "outputs": [],
   "source": [
    "model_deduplicate = create_model()\n",
    "history_deduplicate = model_deduplicate.fit(train_sentences_dedup, train_labels_dedup, epochs=5, batch_size=16, validation_split=0.2)"
   ]
  },
  {
   "cell_type": "code",
   "execution_count": null,
   "id": "bf1aad1c-1282-4cdc-a763-0f8e02225f8c",
   "metadata": {},
   "outputs": [],
   "source": [
    "test_loss_deduplicate, test_acc_deduplicate = model_deduplicate.evaluate(test_sentences_dedup, test_labels_dedup)\n",
    "print(f\"Test Accuracy: {test_acc_deduplicate * 100:.2f}%\")"
   ]
  },
  {
   "cell_type": "code",
   "execution_count": null,
   "id": "2f2814b0-3c46-45dc-a932-f6908ac69f54",
   "metadata": {},
   "outputs": [],
   "source": [
    "model_report(model_deduplicate, test_sentences_dedup)"
   ]
  },
  {
   "cell_type": "code",
   "execution_count": null,
   "id": "9acb9754-557b-4bd1-85f9-16b66bd98ed3",
   "metadata": {},
   "outputs": [],
   "source": [
    "confusion_matrix(test_sentences_dedup, test_labels_dedup, le)"
   ]
  },
  {
   "cell_type": "markdown",
   "id": "69e76bed-652c-400b-b84d-8650f9c6e3db",
   "metadata": {},
   "source": [
    "# Decision tree"
   ]
  },
  {
   "cell_type": "code",
   "execution_count": 46,
   "id": "344fb87b-519a-4eee-ad17-3e66d46a9616",
   "metadata": {},
   "outputs": [],
   "source": [
    "# imports\n",
    "from sklearn.feature_extraction.text import CountVectorizer\n",
    "from sklearn.model_selection import train_test_split\n",
    "from sklearn.tree import DecisionTreeClassifier\n",
    "from sklearn.metrics import accuracy_score, classification_report"
   ]
  },
  {
   "cell_type": "code",
   "execution_count": null,
   "id": "68252e4f-145f-43ec-af7d-bd9c2d7c59ad",
   "metadata": {},
   "outputs": [],
   "source": []
  }
 ],
 "metadata": {
  "kernelspec": {
   "display_name": "Python 3 (ipykernel)",
   "language": "python",
   "name": "python3"
  },
  "language_info": {
   "codemirror_mode": {
    "name": "ipython",
    "version": 3
   },
   "file_extension": ".py",
   "mimetype": "text/x-python",
   "name": "python",
   "nbconvert_exporter": "python",
   "pygments_lexer": "ipython3",
   "version": "3.10.11"
  }
 },
 "nbformat": 4,
 "nbformat_minor": 5
}
