{
 "cells": [
  {
   "cell_type": "code",
   "execution_count": 1,
   "id": "71af04b7",
   "metadata": {},
   "outputs": [
    {
     "name": "stdout",
     "output_type": "stream",
     "text": [
      "WARNING:tensorflow:From C:\\Users\\storm\\AppData\\Local\\Programs\\Python\\Python310\\lib\\site-packages\\keras\\src\\losses.py:2976: The name tf.losses.sparse_softmax_cross_entropy is deprecated. Please use tf.compat.v1.losses.sparse_softmax_cross_entropy instead.\n",
      "\n"
     ]
    }
   ],
   "source": [
    "import re\n",
    "import numpy as np\n",
    "import pandas as pd\n",
    "import tensorflow as tf\n",
    "from tensorflow.keras import layers, models\n",
    "from sklearn.preprocessing import LabelEncoder\n",
    "from sklearn.model_selection import train_test_split\n",
    "from tensorflow.keras.preprocessing.text import Tokenizer\n",
    "from tensorflow.keras.preprocessing.sequence import pad_sequences"
   ]
  },
  {
   "cell_type": "code",
   "execution_count": 2,
   "id": "2f16444b",
   "metadata": {
    "scrolled": true
   },
   "outputs": [],
   "source": [
    "with open(\"dialog_acts.dat\", 'r') as file:\n",
    "    data = {'label': [], 'sentence': [], 'prediction': []}\n",
    "    \n",
    "    for line in file:\n",
    "        words = line.split(maxsplit=1)\n",
    "        if len(words) > 1:\n",
    "            data['label'].append(words[0])\n",
    "            data['sentence'].append(words[1])\n",
    "        else:\n",
    "            data['label'].append(words[0])\n",
    "            data['sentence'].append('')"
   ]
  },
  {
   "cell_type": "code",
   "execution_count": 3,
   "id": "0acad049",
   "metadata": {},
   "outputs": [],
   "source": [
    "for sentence in data[\"sentence\"]:\n",
    "    data[\"prediction\"].append(\"inform\")"
   ]
  },
  {
   "cell_type": "code",
   "execution_count": 4,
   "id": "d9ac3de3",
   "metadata": {},
   "outputs": [
    {
     "name": "stdout",
     "output_type": "stream",
     "text": [
      "Accuracy: 39.84%\n"
     ]
    }
   ],
   "source": [
    "if len(data['label']) != len(data['prediction']):\n",
    "    print(\"Error: The number of labels and predictions do not match.\")\n",
    "else:\n",
    "    correct = 0\n",
    "    total = len(data['label'])\n",
    "\n",
    "    for i in range(total):\n",
    "        if data['label'][i] == data['prediction'][i]:\n",
    "            correct += 1\n",
    "\n",
    "    accuracy = correct / total * 100\n",
    "    print(f\"Accuracy: {accuracy:.2f}%\")"
   ]
  },
  {
   "cell_type": "markdown",
   "id": "581933d1-ed55-41d2-ba11-1e71fa958466",
   "metadata": {},
   "source": [
    "# Keywords"
   ]
  },
  {
   "cell_type": "code",
   "execution_count": 5,
   "id": "da4e7e13",
   "metadata": {},
   "outputs": [],
   "source": [
    "def count_labels(data):\n",
    "    label_counts = {}\n",
    "\n",
    "    # Count the occurrences of each label\n",
    "    for label in data['label']:\n",
    "        if label in label_counts:\n",
    "            label_counts[label] += 1\n",
    "        else:\n",
    "            label_counts[label] = 1\n",
    "\n",
    "    # Print the count of each label\n",
    "    for label, count in label_counts.items():\n",
    "        print(f\"{label}: {count}\")"
   ]
  },
  {
   "cell_type": "code",
   "execution_count": 6,
   "id": "7a9a0151",
   "metadata": {},
   "outputs": [
    {
     "name": "stdout",
     "output_type": "stream",
     "text": [
      "inform: 10160\n",
      "confirm: 172\n",
      "affirm: 1156\n",
      "request: 6494\n",
      "thankyou: 3259\n",
      "null: 1612\n",
      "bye: 266\n",
      "reqalts: 1747\n",
      "negate: 435\n",
      "hello: 93\n",
      "repeat: 33\n",
      "ack: 28\n",
      "restart: 14\n",
      "deny: 27\n",
      "reqmore: 5\n"
     ]
    }
   ],
   "source": [
    "count_labels(data)"
   ]
  },
  {
   "cell_type": "code",
   "execution_count": 7,
   "id": "4c78dc45-0ae5-418c-9447-06cae866aa63",
   "metadata": {},
   "outputs": [],
   "source": [
    "# keywords = {\n",
    "#     'ack': ['kay', 'okay'],\n",
    "#     'affirm': ['yes', 'right', 'yeah'],\n",
    "#     'bye': ['bye'],\n",
    "#     'confirm': ['is it', 'does it', 'do they'],\n",
    "#     'deny': ['wrong', 'dont want', 'no']\n",
    "# }"
   ]
  },
  {
   "cell_type": "code",
   "execution_count": 8,
   "id": "4577df02-9324-4d9a-bcba-b19d7f79ee07",
   "metadata": {},
   "outputs": [],
   "source": [
    "keywords = {\n",
    "    'ack': ['kay', 'okay'],\n",
    "    'affirm': ['yes', 'right', 'yeah'],\n",
    "    'thankyou': ['thank'],\n",
    "    'bye': ['bye', 'goodbye'],\n",
    "    'confirm': ['is it', 'does it', 'do they'],\n",
    "    'deny': ['wrong', 'dont', 'not'],\n",
    "    'hello': ['hi', 'hello', 'halo', 'welcome'],\n",
    "    'inform': [\n",
    "        'looking', 'restaurant', 'any', 'food', 'part', 'town', 'cheap', 'expensive', \n",
    "        'mediterranean', 'seafood', 'east', 'west', 'north', 'south', 'asian', \n",
    "        'oriental', 'scottish', 'matter', 'european', 'want', 'care', 'austrian', \n",
    "        'center', 'corsica', 'international', 'priced', 'moderately', 'moderate', \n",
    "        'central', 'eirtrean', 'spanish', 'venue', 'australian', 'turkish'\n",
    "    ],\n",
    "    'negate': ['no'],\n",
    "    'null': [],\n",
    "    'repeat': ['repeat', 'again', 'back'],\n",
    "    'reqalts': ['how about', 'what about', 'is there', 'anything else'],\n",
    "    'reqmore': ['more'],\n",
    "    'request': ['address', 'phone', 'number', 'post code', 'how much', 'where', 'whats', 'what is', 'price range'],\n",
    "    'restart': ['start', 'reset'],\n",
    "}\n"
   ]
  },
  {
   "cell_type": "code",
   "execution_count": 9,
   "id": "a3431966",
   "metadata": {},
   "outputs": [],
   "source": [
    "# Not 2 word friendly\n",
    "\n",
    "# def classify_sentence(sentence, keywords):\n",
    "#     # Convert the sentence to lowercase and tokenize it\n",
    "#     tokens = re.findall(r'\\b\\w+\\b', sentence.lower())\n",
    "    \n",
    "#     # Check each label and its associated keywords\n",
    "#     for label, kws in keywords.items():\n",
    "#         # Check if any keyword is in the tokens\n",
    "#         if any(keyword in tokens for keyword in kws):\n",
    "#             return label\n",
    "            \n",
    "#     # Return 'null' if no keywords are found\n",
    "#     return 'null'"
   ]
  },
  {
   "cell_type": "code",
   "execution_count": 10,
   "id": "365c3614-b67b-442f-b397-f985834a497d",
   "metadata": {},
   "outputs": [],
   "source": [
    "def classify_sentence(sentence, keywords):\n",
    "    # Convert the sentence to lowercase\n",
    "    sentence_lower = sentence.lower()\n",
    "    \n",
    "    # Sort keywords by length in descending order to match longer phrases first\n",
    "    sorted_keywords = sorted(((label, keyword) for label, kw_list in keywords.items() for keyword in kw_list),\n",
    "                              key=lambda x: len(x[1]), reverse=True)\n",
    "    \n",
    "    # Check if any keyword is in the sentence\n",
    "    for label, keyword in sorted_keywords:\n",
    "        if keyword in sentence_lower:\n",
    "            return label\n",
    "    \n",
    "    # Return 'null' if no keywords are found\n",
    "    return 'null'"
   ]
  },
  {
   "cell_type": "code",
   "execution_count": 11,
   "id": "e0e1515e",
   "metadata": {
    "scrolled": true
   },
   "outputs": [],
   "source": [
    "data['prediction'] = [classify_sentence(sentence, keywords) for sentence in data['sentence']]"
   ]
  },
  {
   "cell_type": "code",
   "execution_count": 12,
   "id": "077c8afd",
   "metadata": {},
   "outputs": [
    {
     "name": "stdout",
     "output_type": "stream",
     "text": [
      "81.48307909493745\n"
     ]
    }
   ],
   "source": [
    "def calculate_accuracy_filtered(labels, predictions):\n",
    "    filtered_labels = []\n",
    "    filtered_predictions = []\n",
    "    \n",
    "    for label, prediction in zip(labels, predictions):\n",
    "        filtered_labels.append(label)\n",
    "        filtered_predictions.append(prediction)\n",
    "    \n",
    "    if len(filtered_labels) != len(filtered_predictions):\n",
    "        raise ValueError(\"Filtered labels and predictions lists must be of the same length.\")\n",
    "    \n",
    "    correct = sum(1 for l, p in zip(filtered_labels, filtered_predictions) if l == p)\n",
    "    total = len(filtered_labels)\n",
    "    accuracy = (correct / total) * 100 if total > 0 else 0\n",
    "    return accuracy\n",
    "\n",
    "accuracy = calculate_accuracy_filtered(data['label'], data['prediction'])\n",
    "print(accuracy)"
   ]
  },
  {
   "cell_type": "code",
   "execution_count": 13,
   "id": "662b3482-e848-41fe-a7d0-246d94f3a16e",
   "metadata": {},
   "outputs": [
    {
     "name": "stdout",
     "output_type": "stream",
     "text": [
      "Label: inform, Accuracy: 79.60%\n",
      "Label: confirm, Accuracy: 51.16%\n",
      "Label: affirm, Accuracy: 80.62%\n",
      "Label: request, Accuracy: 88.10%\n",
      "Label: thankyou, Accuracy: 87.11%\n",
      "Label: null, Accuracy: 61.29%\n",
      "Label: bye, Accuracy: 74.44%\n",
      "Label: reqalts, Accuracy: 85.00%\n",
      "Label: negate, Accuracy: 70.11%\n",
      "Label: hello, Accuracy: 49.46%\n",
      "Label: repeat, Accuracy: 100.00%\n",
      "Label: ack, Accuracy: 60.71%\n",
      "Label: restart, Accuracy: 92.86%\n",
      "Label: deny, Accuracy: 81.48%\n",
      "Label: reqmore, Accuracy: 100.00%\n"
     ]
    }
   ],
   "source": [
    "from collections import defaultdict\n",
    "\n",
    "def calculate_accuracy_per_label(labels, predictions):\n",
    "    label_counts = defaultdict(int)  # To count occurrences of each label\n",
    "    correct_counts = defaultdict(int)  # To count correct predictions for each label\n",
    "\n",
    "    for label, prediction in zip(labels, predictions):\n",
    "        label_counts[label] += 1\n",
    "        if label == prediction:\n",
    "            correct_counts[label] += 1\n",
    "\n",
    "    accuracy_per_label = {}\n",
    "    for label in label_counts:\n",
    "        total = label_counts[label]\n",
    "        correct = correct_counts[label]\n",
    "        accuracy_per_label[label] = (correct / total) * 100 if total > 0 else 0\n",
    "    \n",
    "    return accuracy_per_label\n",
    "\n",
    "accuracy_per_label = calculate_accuracy_per_label(data['label'], data['prediction'])\n",
    "\n",
    "# Print or inspect the accuracy per label\n",
    "for label, accuracy in accuracy_per_label.items():\n",
    "    print(f\"Label: {label}, Accuracy: {accuracy:.2f}%\")\n"
   ]
  },
  {
   "cell_type": "code",
   "execution_count": 14,
   "id": "f2f272ab-749a-4da4-88d7-864fad3971c5",
   "metadata": {
    "scrolled": true
   },
   "outputs": [],
   "source": [
    "# for label, sentence, prediction in zip(data['label'], data['sentence'], data['prediction']):\n",
    "#     if label == 'confirm':\n",
    "#         print(f\"Sentence: {sentence}, Prediction: {prediction}\")"
   ]
  },
  {
   "cell_type": "code",
   "execution_count": 15,
   "id": "429d7738-08be-47a8-95ef-3947c9af47aa",
   "metadata": {},
   "outputs": [],
   "source": [
    "def classify_sentence(sentence):\n",
    "    for label, words in keywords.items():\n",
    "        print('words')\n",
    "        if any(word in sentence.lower() for word in words):\n",
    "            return label\n",
    "    return 'Unknown'  # Default label if no keywords are matched"
   ]
  },
  {
   "cell_type": "code",
   "execution_count": 16,
   "id": "36a12eae-1bba-4dca-8c5b-b29d32555677",
   "metadata": {},
   "outputs": [],
   "source": [
    "# while True:\n",
    "#     # Get user input\n",
    "#     sentence = input(\"Enter a sentence to classify (or type 'exit' to stop): \")\n",
    "    \n",
    "#     # Exit condition\n",
    "#     if sentence.lower() == 'exit':\n",
    "#         print(\"Exiting the classifier.\")\n",
    "#         break\n",
    "    \n",
    "#     # Classify the sentence\n",
    "#     label = classify_sentence(sentence)\n",
    "#     print(f\"Classified as: {label}\")"
   ]
  },
  {
   "cell_type": "markdown",
   "id": "717aa010-c1cb-43fd-814d-674c39aca6dd",
   "metadata": {},
   "source": [
    "# Feed Forward Neural Network"
   ]
  },
  {
   "cell_type": "code",
   "execution_count": 17,
   "id": "3745d7a5-4350-46ce-8ca7-c2dda86f5d75",
   "metadata": {},
   "outputs": [],
   "source": [
    "# Convert all labels to numbers\n",
    "le = LabelEncoder()\n",
    "data['label'] = le.fit_transform(data['label'])"
   ]
  },
  {
   "cell_type": "code",
   "execution_count": 18,
   "id": "d276ba05-68df-4389-8a89-ad03313625fc",
   "metadata": {},
   "outputs": [],
   "source": [
    "max_words = 10000  # Maximum number of words\n",
    "max_len = 128  # Maximum sentence length"
   ]
  },
  {
   "cell_type": "code",
   "execution_count": 19,
   "id": "1fa736ac-01b3-41f2-b89e-f1990048a007",
   "metadata": {},
   "outputs": [],
   "source": [
    "# Tokenize all words\n",
    "tokenizer = Tokenizer(num_words=max_words, oov_token='<OOV>')\n",
    "tokenizer.fit_on_texts(data['sentence'])\n",
    "sequences = tokenizer.texts_to_sequences(data['sentence'])\n",
    "padded_sequences = pad_sequences(sequences, maxlen=max_len, padding='post')"
   ]
  },
  {
   "cell_type": "code",
   "execution_count": 20,
   "id": "8f8b9803-5917-4794-b5bd-c240051851e1",
   "metadata": {},
   "outputs": [],
   "source": [
    "train_sentences, test_sentences, train_labels, test_labels = train_test_split(\n",
    "    padded_sequences, data['label'], test_size=0.2, random_state=42\n",
    ")"
   ]
  },
  {
   "cell_type": "code",
   "execution_count": 21,
   "id": "309b4136-31d8-48d5-a49e-c4d401862876",
   "metadata": {},
   "outputs": [],
   "source": [
    "def create_model():\n",
    "    model = models.Sequential()\n",
    "    \n",
    "    model.add(layers.Embedding(input_dim=max_words, output_dim=128, input_length=max_len))\n",
    "    model.add(layers.Flatten())\n",
    "    model.add(layers.Dense(256, activation='relu'))\n",
    "    model.add(layers.Dense(15, activation='softmax'))  # 15 classes\n",
    "    \n",
    "    model.compile(optimizer=tf.keras.optimizers.Adam(learning_rate=0.001),\n",
    "                  loss='sparse_categorical_crossentropy',\n",
    "                  metrics=['accuracy'])\n",
    "    \n",
    "    return model"
   ]
  },
  {
   "cell_type": "code",
   "execution_count": 22,
   "id": "6254e620-ae3a-4253-a129-b58ac4be7cdd",
   "metadata": {},
   "outputs": [
    {
     "name": "stdout",
     "output_type": "stream",
     "text": [
      "WARNING:tensorflow:From C:\\Users\\storm\\AppData\\Local\\Programs\\Python\\Python310\\lib\\site-packages\\keras\\src\\backend.py:873: The name tf.get_default_graph is deprecated. Please use tf.compat.v1.get_default_graph instead.\n",
      "\n",
      "Model: \"sequential\"\n",
      "_________________________________________________________________\n",
      " Layer (type)                Output Shape              Param #   \n",
      "=================================================================\n",
      " embedding (Embedding)       (None, 128, 128)          1280000   \n",
      "                                                                 \n",
      " flatten (Flatten)           (None, 16384)             0         \n",
      "                                                                 \n",
      " dense (Dense)               (None, 256)               4194560   \n",
      "                                                                 \n",
      " dense_1 (Dense)             (None, 15)                3855      \n",
      "                                                                 \n",
      "=================================================================\n",
      "Total params: 5478415 (20.90 MB)\n",
      "Trainable params: 5478415 (20.90 MB)\n",
      "Non-trainable params: 0 (0.00 Byte)\n",
      "_________________________________________________________________\n"
     ]
    }
   ],
   "source": [
    "model = create_model()\n",
    "model.summary()"
   ]
  },
  {
   "cell_type": "code",
   "execution_count": 23,
   "id": "c904880a-8b30-465d-b46a-fda817d66920",
   "metadata": {},
   "outputs": [
    {
     "name": "stdout",
     "output_type": "stream",
     "text": [
      "Epoch 1/5\n",
      "WARNING:tensorflow:From C:\\Users\\storm\\AppData\\Local\\Programs\\Python\\Python310\\lib\\site-packages\\keras\\src\\utils\\tf_utils.py:492: The name tf.ragged.RaggedTensorValue is deprecated. Please use tf.compat.v1.ragged.RaggedTensorValue instead.\n",
      "\n",
      "WARNING:tensorflow:From C:\\Users\\storm\\AppData\\Local\\Programs\\Python\\Python310\\lib\\site-packages\\keras\\src\\engine\\base_layer_utils.py:384: The name tf.executing_eagerly_outside_functions is deprecated. Please use tf.compat.v1.executing_eagerly_outside_functions instead.\n",
      "\n",
      "1020/1020 [==============================] - 32s 31ms/step - loss: 0.2977 - accuracy: 0.9172 - val_loss: 0.1024 - val_accuracy: 0.9713\n",
      "Epoch 2/5\n",
      "1020/1020 [==============================] - 31s 30ms/step - loss: 0.0743 - accuracy: 0.9795 - val_loss: 0.0789 - val_accuracy: 0.9794\n",
      "Epoch 3/5\n",
      "1020/1020 [==============================] - 32s 31ms/step - loss: 0.0435 - accuracy: 0.9873 - val_loss: 0.0787 - val_accuracy: 0.9792\n",
      "Epoch 4/5\n",
      "1020/1020 [==============================] - 32s 31ms/step - loss: 0.0262 - accuracy: 0.9920 - val_loss: 0.0839 - val_accuracy: 0.9792\n",
      "Epoch 5/5\n",
      "1020/1020 [==============================] - 33s 32ms/step - loss: 0.0198 - accuracy: 0.9947 - val_loss: 0.0849 - val_accuracy: 0.9809\n"
     ]
    }
   ],
   "source": [
    "history = model.fit(train_sentences, train_labels, epochs=5, batch_size=16, validation_split=0.2)"
   ]
  },
  {
   "cell_type": "code",
   "execution_count": 24,
   "id": "a2451d3e-4f58-4673-81a6-d969419f1454",
   "metadata": {},
   "outputs": [
    {
     "name": "stdout",
     "output_type": "stream",
     "text": [
      "160/160 [==============================] - 0s 2ms/step\n",
      "              precision    recall  f1-score   support\n",
      "\n",
      "         ack       0.33      0.20      0.25         5\n",
      "      affirm       0.99      0.97      0.98       247\n",
      "         bye       0.98      0.98      0.98        46\n",
      "     confirm       0.84      0.94      0.89        33\n",
      "        deny       0.62      0.71      0.67         7\n",
      "       hello       1.00      1.00      1.00        16\n",
      "      inform       0.98      0.99      0.99      2041\n",
      "      negate       1.00      0.99      0.99        81\n",
      "        null       0.97      0.92      0.94       309\n",
      "      repeat       1.00      0.75      0.86         4\n",
      "     reqalts       0.97      0.96      0.97       368\n",
      "     reqmore       0.00      0.00      0.00         2\n",
      "     request       0.99      1.00      0.99      1305\n",
      "     restart       0.33      0.33      0.33         3\n",
      "    thankyou       1.00      1.00      1.00       634\n",
      "\n",
      "    accuracy                           0.98      5101\n",
      "   macro avg       0.80      0.78      0.79      5101\n",
      "weighted avg       0.98      0.98      0.98      5101\n",
      "\n"
     ]
    },
    {
     "name": "stderr",
     "output_type": "stream",
     "text": [
      "C:\\Users\\storm\\AppData\\Local\\Programs\\Python\\Python310\\lib\\site-packages\\sklearn\\metrics\\_classification.py:1471: UndefinedMetricWarning: Precision and F-score are ill-defined and being set to 0.0 in labels with no predicted samples. Use `zero_division` parameter to control this behavior.\n",
      "  _warn_prf(average, modifier, msg_start, len(result))\n",
      "C:\\Users\\storm\\AppData\\Local\\Programs\\Python\\Python310\\lib\\site-packages\\sklearn\\metrics\\_classification.py:1471: UndefinedMetricWarning: Precision and F-score are ill-defined and being set to 0.0 in labels with no predicted samples. Use `zero_division` parameter to control this behavior.\n",
      "  _warn_prf(average, modifier, msg_start, len(result))\n",
      "C:\\Users\\storm\\AppData\\Local\\Programs\\Python\\Python310\\lib\\site-packages\\sklearn\\metrics\\_classification.py:1471: UndefinedMetricWarning: Precision and F-score are ill-defined and being set to 0.0 in labels with no predicted samples. Use `zero_division` parameter to control this behavior.\n",
      "  _warn_prf(average, modifier, msg_start, len(result))\n"
     ]
    }
   ],
   "source": [
    "from sklearn.metrics import classification_report\n",
    "import numpy as np\n",
    "\n",
    "# Make predictions on the test set\n",
    "predictions = model.predict(test_sentences)\n",
    "predicted_labels = np.argmax(predictions, axis=1)\n",
    "\n",
    "# Ensure all 15 classes are included in the report\n",
    "all_classes = list(range(15))\n",
    "\n",
    "# Generate the classification report\n",
    "report = classification_report(test_labels, predicted_labels, labels=all_classes, target_names=[f'{le.inverse_transform([i])[0]}' for i in all_classes])\n",
    "\n",
    "print(report)\n"
   ]
  },
  {
   "cell_type": "code",
   "execution_count": 42,
   "id": "8a916508-9aa8-4bba-96aa-55f11ccd91ce",
   "metadata": {},
   "outputs": [
    {
     "name": "stdout",
     "output_type": "stream",
     "text": [
      "160/160 [==============================] - 0s 2ms/step\n"
     ]
    },
    {
     "data": {
      "image/png": "[encoded data removed]",
      "text/plain": [
       "<Figure size 1000x800 with 2 Axes>"
      ]
     },
     "metadata": {},
     "output_type": "display_data"
    }
   ],
   "source": [
    "from sklearn.metrics import confusion_matrix\n",
    "import seaborn as sns\n",
    "import matplotlib.pyplot as plt\n",
    "\n",
    "# Get the predictions for the test set\n",
    "y_pred = model.predict(test_sentences)\n",
    "y_pred_labels = np.argmax(y_pred, axis=1)  # Convert probabilities to predicted class labels\n",
    "\n",
    "# Use test_labels directly if they are not one-hot encoded\n",
    "y_true_labels = test_labels\n",
    "\n",
    "# Generate confusion matrix\n",
    "cm = confusion_matrix(y_true_labels, y_pred_labels)\n",
    "\n",
    "# Get the actual class names (the inverse transform from LabelEncoder)\n",
    "class_names = le.inverse_transform(np.unique(y_true_labels))\n",
    "\n",
    "# Plot the confusion matrix with actual labels\n",
    "plt.figure(figsize=(10, 8))\n",
    "sns.heatmap(cm, annot=True, fmt='d', cmap='Blues', xticklabels=class_names, yticklabels=class_names)\n",
    "plt.xlabel('Predicted')\n",
    "plt.ylabel('True')\n",
    "plt.title('Confusion Matrix')\n",
    "plt.show()\n"
   ]
  },
  {
   "cell_type": "code",
   "execution_count": 25,
   "id": "18fe83ce-4d19-4c05-852c-91f494f2c6dc",
   "metadata": {},
   "outputs": [
    {
     "name": "stdout",
     "output_type": "stream",
     "text": [
      "160/160 [==============================] - 1s 3ms/step - loss: 0.0619 - accuracy: 0.9831\n",
      "Test Accuracy: 98.31%\n"
     ]
    }
   ],
   "source": [
    "test_loss, test_acc = model.evaluate(test_sentences, test_labels)\n",
    "print(f\"Test Accuracy: {test_acc * 100:.2f}%\")"
   ]
  },
  {
   "cell_type": "code",
   "execution_count": 26,
   "id": "12d6167d-e5a8-44c8-873a-d3bcea074bae",
   "metadata": {},
   "outputs": [],
   "source": [
    "unique_labels = sorted(list(set(data['label'])))"
   ]
  },
  {
   "cell_type": "code",
   "execution_count": 27,
   "id": "372ed80f-c585-4199-882f-5a7bb8676394",
   "metadata": {},
   "outputs": [],
   "source": [
    "def classify_sentence_fnn(sentence):\n",
    "    # Tokenize and pad the input sentence\n",
    "    sequence = tokenizer.texts_to_sequences([sentence])\n",
    "    padded_sequence = pad_sequences(sequence, maxlen=128, padding='post')\n",
    "    \n",
    "    # Get prediction from the model\n",
    "    prediction = model.predict(padded_sequence)\n",
    "    \n",
    "    # Get the index of the highest probability\n",
    "    predicted_label_index = np.argmax(prediction, axis=1)[0]\n",
    "    predicted_label = le.inverse_transform([predicted_label_index])[0]\n",
    "\n",
    "    return predicted_label"
   ]
  },
  {
   "cell_type": "code",
   "execution_count": 28,
   "id": "54551130-713e-4c67-9adf-380dc8579a3f",
   "metadata": {},
   "outputs": [],
   "source": [
    "# while True:\n",
    "#     sentence = input(\"Enter a sentence to classify (or type 'exit' to stop): \")\n",
    "    \n",
    "#     if sentence.lower() == 'exit':\n",
    "#         print(\"Exiting the classifier.\")\n",
    "#         break\n",
    "    \n",
    "#     # Classify the sentence using the FNN model\n",
    "#     label = classify_sentence_fnn(sentence)\n",
    "    \n",
    "#     print(f\"Classified as: {label}\")"
   ]
  },
  {
   "cell_type": "markdown",
   "id": "8955097c-5566-42ba-9e16-381d71ba7b47",
   "metadata": {},
   "source": [
    "### Deduplicate"
   ]
  },
  {
   "cell_type": "code",
   "execution_count": 29,
   "id": "21498da7-e18d-47c5-bfbb-c647c3ce2db6",
   "metadata": {},
   "outputs": [],
   "source": [
    "df = pd.DataFrame(data)\n",
    "df_cleaned = df.drop_duplicates(subset=['label', 'sentence'])\n",
    "data_deduplicate = df_cleaned.to_dict(orient='list')\n",
    "data_deduplicate['label'] = np.array(data_deduplicate['label'])"
   ]
  },
  {
   "cell_type": "code",
   "execution_count": 30,
   "id": "49eb105f-3057-40cd-a848-8c5c6a0ac76e",
   "metadata": {},
   "outputs": [],
   "source": [
    "# Convert all labels to numbers\n",
    "le_dedup = LabelEncoder()\n",
    "data_deduplicate['label'] = le_dedup.fit_transform(data_deduplicate['label'])"
   ]
  },
  {
   "cell_type": "code",
   "execution_count": 31,
   "id": "0b41784a-c9d4-4495-b8e9-fc5cf34f4d09",
   "metadata": {},
   "outputs": [
    {
     "name": "stdout",
     "output_type": "stream",
     "text": [
      "25501\n",
      "5359\n"
     ]
    }
   ],
   "source": [
    "print(len(data['sentence']))\n",
    "print(len(data_deduplicate['sentence']))"
   ]
  },
  {
   "cell_type": "code",
   "execution_count": 32,
   "id": "bb73d15e-847d-4ddd-a640-ea7789780551",
   "metadata": {},
   "outputs": [],
   "source": [
    "# Tokenize all words\n",
    "tokenizer_dedup = Tokenizer(num_words=max_words, oov_token='<OOV>')\n",
    "tokenizer_dedup.fit_on_texts(data_deduplicate['sentence'])\n",
    "sequences_dedup = tokenizer_dedup.texts_to_sequences(data_deduplicate['sentence'])\n",
    "padded_sequences_dedup = pad_sequences(sequences_dedup, maxlen=max_len, padding='post')"
   ]
  },
  {
   "cell_type": "code",
   "execution_count": 33,
   "id": "b1556b52-4ad6-4d96-92b2-771793c4c2b1",
   "metadata": {},
   "outputs": [],
   "source": [
    "train_sentences_dedup, test_sentences_dedup, train_labels_dedup, test_labels_dedup = train_test_split(\n",
    "    padded_sequences_dedup, data_deduplicate['label'], test_size=0.2, random_state=42\n",
    ")"
   ]
  },
  {
   "cell_type": "code",
   "execution_count": 34,
   "id": "29350b2b-9548-4694-ac25-49fc92d24ade",
   "metadata": {},
   "outputs": [
    {
     "name": "stdout",
     "output_type": "stream",
     "text": [
      "Epoch 1/5\n",
      "215/215 [==============================] - 7s 32ms/step - loss: 0.9216 - accuracy: 0.7404 - val_loss: 0.5238 - val_accuracy: 0.8543\n",
      "Epoch 2/5\n",
      "215/215 [==============================] - 7s 31ms/step - loss: 0.3770 - accuracy: 0.8909 - val_loss: 0.3882 - val_accuracy: 0.8753\n",
      "Epoch 3/5\n",
      "215/215 [==============================] - 7s 31ms/step - loss: 0.2410 - accuracy: 0.9315 - val_loss: 0.3435 - val_accuracy: 0.8974\n",
      "Epoch 4/5\n",
      "215/215 [==============================] - 7s 32ms/step - loss: 0.1679 - accuracy: 0.9510 - val_loss: 0.3344 - val_accuracy: 0.9009\n",
      "Epoch 5/5\n",
      "215/215 [==============================] - 7s 31ms/step - loss: 0.1212 - accuracy: 0.9618 - val_loss: 0.3142 - val_accuracy: 0.9044\n"
     ]
    }
   ],
   "source": [
    "model_deduplicate = create_model()\n",
    "history_deduplicate = model_deduplicate.fit(train_sentences_dedup, train_labels_dedup, epochs=5, batch_size=16, validation_split=0.2)"
   ]
  },
  {
   "cell_type": "code",
   "execution_count": 35,
   "id": "bf1aad1c-1282-4cdc-a763-0f8e02225f8c",
   "metadata": {},
   "outputs": [
    {
     "name": "stdout",
     "output_type": "stream",
     "text": [
      "34/34 [==============================] - 0s 3ms/step - loss: 0.2793 - accuracy: 0.9067\n",
      "Test Accuracy: 90.67%\n"
     ]
    }
   ],
   "source": [
    "test_loss_deduplicate, test_acc_deduplicate = model_deduplicate.evaluate(test_sentences_dedup, test_labels_dedup)\n",
    "print(f\"Test Accuracy: {test_acc_deduplicate * 100:.2f}%\")"
   ]
  },
  {
   "cell_type": "code",
   "execution_count": 41,
   "id": "2f2814b0-3c46-45dc-a932-f6908ac69f54",
   "metadata": {},
   "outputs": [
    {
     "name": "stdout",
     "output_type": "stream",
     "text": [
      "34/34 [==============================] - 0s 4ms/step\n",
      "              precision    recall  f1-score   support\n",
      "\n",
      "         ack       0.00      0.00      0.00         5\n",
      "      affirm       0.97      0.91      0.94        34\n",
      "         bye       0.80      0.33      0.47        12\n",
      "     confirm       0.81      0.95      0.88        22\n",
      "        deny       0.00      0.00      0.00         1\n",
      "       hello       1.00      0.78      0.88         9\n",
      "      inform       0.94      0.96      0.95       604\n",
      "      negate       0.94      0.97      0.95        31\n",
      "        null       0.55      0.58      0.56        59\n",
      "      repeat       0.00      0.00      0.00         1\n",
      "     reqalts       0.91      0.84      0.87        99\n",
      "     reqmore       0.00      0.00      0.00         0\n",
      "     request       0.93      0.95      0.94       176\n",
      "     restart       0.00      0.00      0.00         1\n",
      "    thankyou       0.80      0.89      0.84        18\n",
      "\n",
      "   micro avg       0.91      0.91      0.91      1072\n",
      "   macro avg       0.58      0.54      0.55      1072\n",
      "weighted avg       0.90      0.91      0.90      1072\n",
      "\n"
     ]
    },
    {
     "name": "stderr",
     "output_type": "stream",
     "text": [
      "C:\\Users\\storm\\AppData\\Local\\Programs\\Python\\Python310\\lib\\site-packages\\sklearn\\metrics\\_classification.py:1471: UndefinedMetricWarning: Precision and F-score are ill-defined and being set to 0.0 in labels with no predicted samples. Use `zero_division` parameter to control this behavior.\n",
      "  _warn_prf(average, modifier, msg_start, len(result))\n",
      "C:\\Users\\storm\\AppData\\Local\\Programs\\Python\\Python310\\lib\\site-packages\\sklearn\\metrics\\_classification.py:1471: UndefinedMetricWarning: Recall and F-score are ill-defined and being set to 0.0 in labels with no true samples. Use `zero_division` parameter to control this behavior.\n",
      "  _warn_prf(average, modifier, msg_start, len(result))\n",
      "C:\\Users\\storm\\AppData\\Local\\Programs\\Python\\Python310\\lib\\site-packages\\sklearn\\metrics\\_classification.py:1471: UndefinedMetricWarning: Precision and F-score are ill-defined and being set to 0.0 in labels with no predicted samples. Use `zero_division` parameter to control this behavior.\n",
      "  _warn_prf(average, modifier, msg_start, len(result))\n",
      "C:\\Users\\storm\\AppData\\Local\\Programs\\Python\\Python310\\lib\\site-packages\\sklearn\\metrics\\_classification.py:1471: UndefinedMetricWarning: Recall and F-score are ill-defined and being set to 0.0 in labels with no true samples. Use `zero_division` parameter to control this behavior.\n",
      "  _warn_prf(average, modifier, msg_start, len(result))\n",
      "C:\\Users\\storm\\AppData\\Local\\Programs\\Python\\Python310\\lib\\site-packages\\sklearn\\metrics\\_classification.py:1471: UndefinedMetricWarning: Precision and F-score are ill-defined and being set to 0.0 in labels with no predicted samples. Use `zero_division` parameter to control this behavior.\n",
      "  _warn_prf(average, modifier, msg_start, len(result))\n",
      "C:\\Users\\storm\\AppData\\Local\\Programs\\Python\\Python310\\lib\\site-packages\\sklearn\\metrics\\_classification.py:1471: UndefinedMetricWarning: Recall and F-score are ill-defined and being set to 0.0 in labels with no true samples. Use `zero_division` parameter to control this behavior.\n",
      "  _warn_prf(average, modifier, msg_start, len(result))\n"
     ]
    }
   ],
   "source": [
    "# Make predictions on the test set\n",
    "predictions_dedup = model_deduplicate.predict(test_sentences_dedup)\n",
    "predicted_labels_dedup = np.argmax(predictions_dedup, axis=1)\n",
    "\n",
    "# Ensure all 15 classes are included in the report\n",
    "all_classes = list(range(15))\n",
    "\n",
    "# Generate the classification report\n",
    "report_dedup = classification_report(test_labels_dedup, predicted_labels_dedup, labels=all_classes, target_names=[f'{le.inverse_transform([i])[0]}' for i in all_classes])\n",
    "\n",
    "print(report_dedup)"
   ]
  },
  {
   "cell_type": "code",
   "execution_count": 37,
   "id": "9acb9754-557b-4bd1-85f9-16b66bd98ed3",
   "metadata": {},
   "outputs": [
    {
     "name": "stdout",
     "output_type": "stream",
     "text": [
      "34/34 [==============================] - 0s 2ms/step\n"
     ]
    },
    {
     "data": {
      "image/png": "[encoded data removed]",
      "text/plain": [
       "<Figure size 1000x800 with 2 Axes>"
      ]
     },
     "metadata": {},
     "output_type": "display_data"
    }
   ],
   "source": [
    "from sklearn.metrics import confusion_matrix\n",
    "import seaborn as sns\n",
    "import matplotlib.pyplot as plt\n",
    "\n",
    "# Get the predictions for the test set\n",
    "y_pred = model_deduplicate.predict(test_sentences_dedup)\n",
    "y_pred_labels = np.argmax(y_pred, axis=1)  # Convert probabilities to predicted class labels\n",
    "\n",
    "# Use test_labels directly if they are not one-hot encoded\n",
    "y_true_labels = test_labels_dedup\n",
    "\n",
    "# Generate confusion matrix\n",
    "cm = confusion_matrix(y_true_labels, y_pred_labels)\n",
    "\n",
    "# Get the actual class names (the inverse transform from LabelEncoder)\n",
    "class_names = le.inverse_transform(np.unique(y_true_labels))\n",
    "\n",
    "# Plot the confusion matrix with actual labels\n",
    "plt.figure(figsize=(10, 8))\n",
    "sns.heatmap(cm, annot=True, fmt='d', cmap='Blues', xticklabels=class_names, yticklabels=class_names)\n",
    "plt.xlabel('Predicted')\n",
    "plt.ylabel('True')\n",
    "plt.title('Confusion Matrix')\n",
    "plt.show()\n"
   ]
  },
  {
   "cell_type": "code",
   "execution_count": 38,
   "id": "8860cbf9-eb9f-4edb-9269-e1427303145c",
   "metadata": {
    "scrolled": true
   },
   "outputs": [
    {
     "ename": "NameError",
     "evalue": "name 'y_true_orig' is not defined",
     "output_type": "error",
     "traceback": [
      "\u001b[1;31m---------------------------------------------------------------------------\u001b[0m",
      "\u001b[1;31mNameError\u001b[0m                                 Traceback (most recent call last)",
      "Cell \u001b[1;32mIn[38], line 42\u001b[0m\n\u001b[0;32m     39\u001b[0m     plt\u001b[38;5;241m.\u001b[39mshow()\n\u001b[0;32m     41\u001b[0m \u001b[38;5;66;03m# Compute confusion matrices\u001b[39;00m\n\u001b[1;32m---> 42\u001b[0m cm_orig \u001b[38;5;241m=\u001b[39m confusion_matrix(\u001b[43my_true_orig\u001b[49m, y_pred_orig, labels\u001b[38;5;241m=\u001b[39m\u001b[38;5;28mlist\u001b[39m(label_map\u001b[38;5;241m.\u001b[39mvalues()))\n\u001b[0;32m     43\u001b[0m cm_dedup \u001b[38;5;241m=\u001b[39m confusion_matrix(y_true_dedup, y_pred_dedup, labels\u001b[38;5;241m=\u001b[39m\u001b[38;5;28mlist\u001b[39m(label_map\u001b[38;5;241m.\u001b[39mvalues()))\n\u001b[0;32m     45\u001b[0m \u001b[38;5;66;03m# Compute classification reports with zero_division handling\u001b[39;00m\n",
      "\u001b[1;31mNameError\u001b[0m: name 'y_true_orig' is not defined"
     ]
    }
   ],
   "source": [
    "from sklearn.metrics import classification_report, confusion_matrix\n",
    "\n",
    "def plot_confusion_matrices_and_reports(cm_orig, cm_dedup, report_orig, report_dedup, classes):\n",
    "    # Prepare classification reports\n",
    "    df_report_orig = pd.DataFrame(report_orig).T\n",
    "    df_report_dedup = pd.DataFrame(report_dedup).T\n",
    "\n",
    "    # Remove 'support' column from reports for a cleaner view\n",
    "    df_report_orig = df_report_orig.drop(columns='support', errors='ignore')\n",
    "    df_report_dedup = df_report_dedup.drop(columns='support', errors='ignore')\n",
    "\n",
    "    # Plot confusion matrices\n",
    "    plt.figure(figsize=(16, 12))\n",
    "\n",
    "    plt.subplot(2, 2, 1)\n",
    "    sns.heatmap(cm_orig, annot=True, fmt='d', cmap='Blues', xticklabels=classes, yticklabels=classes)\n",
    "    plt.title('Confusion Matrix - Original Data')\n",
    "    plt.xlabel('Predicted')\n",
    "    plt.ylabel('True')\n",
    "\n",
    "    plt.subplot(2, 2, 2)\n",
    "    sns.heatmap(cm_dedup, annot=True, fmt='d', cmap='Blues', xticklabels=classes, yticklabels=classes)\n",
    "    plt.title('Confusion Matrix - Deduplicated Data')\n",
    "    plt.xlabel('Predicted')\n",
    "    plt.ylabel('True')\n",
    "\n",
    "    # Plot classification reports\n",
    "    plt.subplot(2, 2, 3)\n",
    "    sns.heatmap(df_report_orig, annot=True, cmap='coolwarm', fmt='.2f')\n",
    "    plt.title('Classification Report - Original Data')\n",
    "    plt.xticks(rotation=45)\n",
    "\n",
    "    plt.subplot(2, 2, 4)\n",
    "    sns.heatmap(df_report_dedup, annot=True, cmap='coolwarm', fmt='.2f')\n",
    "    plt.title('Classification Report - Deduplicated Data')\n",
    "    plt.xticks(rotation=45)\n",
    "\n",
    "    plt.tight_layout()\n",
    "    plt.show()\n",
    "\n",
    "# Compute confusion matrices\n",
    "cm_orig = confusion_matrix(y_true_orig, y_pred_orig, labels=list(label_map.values()))\n",
    "cm_dedup = confusion_matrix(y_true_dedup, y_pred_dedup, labels=list(label_map.values()))\n",
    "\n",
    "# Compute classification reports with zero_division handling\n",
    "report_orig = classification_report(y_true_orig, y_pred_orig, output_dict=True, target_names=classes, zero_division=0)\n",
    "report_dedup = classification_report(y_true_dedup, y_pred_dedup, output_dict=True, target_names=classes, zero_division=0)\n",
    "\n",
    "# Plot the results\n",
    "plot_confusion_matrices_and_reports(cm_orig, cm_dedup, report_orig, report_dedup, classes)\n"
   ]
  },
  {
   "cell_type": "code",
   "execution_count": null,
   "id": "278761f8-3469-4f90-a11d-81ada7ad0ff3",
   "metadata": {},
   "outputs": [],
   "source": []
  }
 ],
 "metadata": {
  "kernelspec": {
   "display_name": "Python 3 (ipykernel)",
   "language": "python",
   "name": "python3"
  },
  "language_info": {
   "codemirror_mode": {
    "name": "ipython",
    "version": 3
   },
   "file_extension": ".py",
   "mimetype": "text/x-python",
   "name": "python",
   "nbconvert_exporter": "python",
   "pygments_lexer": "ipython3",
   "version": "3.10.11"
  }
 },
 "nbformat": 4,
 "nbformat_minor": 5
}
