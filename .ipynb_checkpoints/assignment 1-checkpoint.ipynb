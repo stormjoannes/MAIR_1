{
 "cells": [
  {
   "cell_type": "markdown",
   "id": "9e10f3f1-e8dc-4801-9ac3-e4660d4175f2",
   "metadata": {},
   "source": [
    "This file contains the code to MAIR assignment 1a"
   ]
  },
  {
   "cell_type": "markdown",
   "id": "def99d1b-0cb4-4920-9bc7-4876fa895215",
   "metadata": {},
   "source": [
    "# Read data"
   ]
  },
  {
   "cell_type": "code",
   "execution_count": 1,
   "id": "2f16444b",
   "metadata": {
    "scrolled": true
   },
   "outputs": [],
   "source": [
    "with open(\"dialog_acts.dat\", 'r') as file:\n",
    "    data = {'label': [], 'sentence': [], 'prediction': []}\n",
    "    \n",
    "    for line in file:\n",
    "        words = line.split(maxsplit=1)\n",
    "        if len(words) > 1:\n",
    "            data['label'].append(words[0])\n",
    "            data['sentence'].append(words[1])\n",
    "        else:\n",
    "            data['label'].append(words[0])\n",
    "            data['sentence'].append('')"
   ]
  },
  {
   "cell_type": "markdown",
   "id": "00dddf81-7b38-4307-97df-ebc1e1b38061",
   "metadata": {},
   "source": [
    "# inform Baseline"
   ]
  },
  {
   "cell_type": "code",
   "execution_count": 2,
   "id": "0acad049",
   "metadata": {},
   "outputs": [],
   "source": [
    "for sentence in data[\"sentence\"]:\n",
    "    data[\"prediction\"].append(\"inform\")"
   ]
  },
  {
   "cell_type": "code",
   "execution_count": 3,
   "id": "d9ac3de3",
   "metadata": {},
   "outputs": [
    {
     "name": "stdout",
     "output_type": "stream",
     "text": [
      "Accuracy: 39.84%\n"
     ]
    }
   ],
   "source": [
    "if len(data['label']) != len(data['prediction']):\n",
    "    print(\"Error: The number of labels and predictions do not match.\")\n",
    "else:\n",
    "    correct = 0\n",
    "    total = len(data['label'])\n",
    "\n",
    "    for i in range(total):\n",
    "        if data['label'][i] == data['prediction'][i]:\n",
    "            correct += 1\n",
    "\n",
    "    accuracy = correct / total * 100\n",
    "    print(f\"Accuracy: {accuracy:.2f}%\")"
   ]
  },
  {
   "cell_type": "markdown",
   "id": "581933d1-ed55-41d2-ba11-1e71fa958466",
   "metadata": {},
   "source": [
    "# Rule based baseline"
   ]
  },
  {
   "cell_type": "code",
   "execution_count": 4,
   "id": "da4e7e13",
   "metadata": {},
   "outputs": [],
   "source": [
    "def count_labels(data):\n",
    "    label_counts = {}\n",
    "\n",
    "    # Count the occurrences of each label\n",
    "    for label in data['label']:\n",
    "        if label in label_counts:\n",
    "            label_counts[label] += 1\n",
    "        else:\n",
    "            label_counts[label] = 1\n",
    "\n",
    "    # Print the count of each label\n",
    "    for label, count in label_counts.items():\n",
    "        print(f\"{label}: {count}\")"
   ]
  },
  {
   "cell_type": "code",
   "execution_count": 5,
   "id": "7a9a0151",
   "metadata": {},
   "outputs": [
    {
     "name": "stdout",
     "output_type": "stream",
     "text": [
      "inform: 10160\n",
      "confirm: 172\n",
      "affirm: 1156\n",
      "request: 6494\n",
      "thankyou: 3259\n",
      "null: 1612\n",
      "bye: 266\n",
      "reqalts: 1747\n",
      "negate: 435\n",
      "hello: 93\n",
      "repeat: 33\n",
      "ack: 28\n",
      "restart: 14\n",
      "deny: 27\n",
      "reqmore: 5\n"
     ]
    }
   ],
   "source": [
    "count_labels(data)"
   ]
  },
  {
   "cell_type": "code",
   "execution_count": 6,
   "id": "4577df02-9324-4d9a-bcba-b19d7f79ee07",
   "metadata": {},
   "outputs": [],
   "source": [
    "keywords = {\n",
    "    'ack': ['kay', 'okay'],\n",
    "    'affirm': ['yes', 'right', 'yeah'],\n",
    "    'thankyou': ['thank'],\n",
    "    'bye': ['bye', 'goodbye'],\n",
    "    'confirm': ['is it', 'does it', 'do they'],\n",
    "    'deny': ['wrong', 'dont', 'not'],\n",
    "    'hello': ['hi', 'hello', 'halo', 'welcome'],\n",
    "    'inform': [\n",
    "        'looking', 'restaurant', 'any', 'food', 'part', 'town', 'cheap', 'expensive', \n",
    "        'mediterranean', 'seafood', 'east', 'west', 'north', 'south', 'asian', \n",
    "        'oriental', 'scottish', 'matter', 'european', 'want', 'care', 'austrian', \n",
    "        'center', 'corsica', 'international', 'priced', 'moderately', 'moderate', \n",
    "        'central', 'eirtrean', 'spanish', 'venue', 'australian', 'turkish'\n",
    "    ],\n",
    "    'negate': ['no'],\n",
    "    'null': [],\n",
    "    'repeat': ['repeat', 'again', 'back'],\n",
    "    'reqalts': ['how about', 'what about', 'is there', 'anything else'],\n",
    "    'reqmore': ['more'],\n",
    "    'request': ['address', 'phone', 'number', 'post code', 'how much', 'where', 'whats', 'what is', 'price range'],\n",
    "    'restart': ['start', 'reset'],\n",
    "}"
   ]
  },
  {
   "cell_type": "code",
   "execution_count": 7,
   "id": "365c3614-b67b-442f-b397-f985834a497d",
   "metadata": {},
   "outputs": [],
   "source": [
    "def classify_sentence(sentence, keywords):\n",
    "    # Convert the sentence to lowercase\n",
    "    sentence_lower = sentence.lower()\n",
    "    \n",
    "    # Sort keywords by length in descending order to match longer phrases first\n",
    "    sorted_keywords = sorted(((label, keyword) for label, kw_list in keywords.items() for keyword in kw_list),\n",
    "                              key=lambda x: len(x[1]), reverse=True)\n",
    "    \n",
    "    # Check if any keyword is in the sentence\n",
    "    for label, keyword in sorted_keywords:\n",
    "        if keyword in sentence_lower:\n",
    "            return label\n",
    "    \n",
    "    # Return 'null' if no keywords are found\n",
    "    return 'null'"
   ]
  },
  {
   "cell_type": "code",
   "execution_count": 8,
   "id": "e0e1515e",
   "metadata": {
    "scrolled": true
   },
   "outputs": [],
   "source": [
    "data['prediction'] = [classify_sentence(sentence, keywords) for sentence in data['sentence']]"
   ]
  },
  {
   "cell_type": "code",
   "execution_count": 9,
   "id": "077c8afd",
   "metadata": {},
   "outputs": [
    {
     "name": "stdout",
     "output_type": "stream",
     "text": [
      "81.48307909493745\n"
     ]
    }
   ],
   "source": [
    "def calculate_accuracy_filtered(labels, predictions):\n",
    "    filtered_labels = []\n",
    "    filtered_predictions = []\n",
    "    \n",
    "    for label, prediction in zip(labels, predictions):\n",
    "        filtered_labels.append(label)\n",
    "        filtered_predictions.append(prediction)\n",
    "    \n",
    "    if len(filtered_labels) != len(filtered_predictions):\n",
    "        raise ValueError(\"Filtered labels and predictions lists must be of the same length.\")\n",
    "    \n",
    "    correct = sum(1 for l, p in zip(filtered_labels, filtered_predictions) if l == p)\n",
    "    total = len(filtered_labels)\n",
    "    accuracy = (correct / total) * 100 if total > 0 else 0\n",
    "    return accuracy\n",
    "\n",
    "accuracy = calculate_accuracy_filtered(data['label'], data['prediction'])\n",
    "print(accuracy)"
   ]
  },
  {
   "cell_type": "code",
   "execution_count": 10,
   "id": "662b3482-e848-41fe-a7d0-246d94f3a16e",
   "metadata": {},
   "outputs": [
    {
     "name": "stdout",
     "output_type": "stream",
     "text": [
      "inform, Accuracy: 79.60%\n",
      "confirm, Accuracy: 51.16%\n",
      "affirm, Accuracy: 80.62%\n",
      "request, Accuracy: 88.10%\n",
      "thankyou, Accuracy: 87.11%\n",
      "null, Accuracy: 61.29%\n",
      "bye, Accuracy: 74.44%\n",
      "reqalts, Accuracy: 85.00%\n",
      "negate, Accuracy: 70.11%\n",
      "hello, Accuracy: 49.46%\n",
      "repeat, Accuracy: 100.00%\n",
      "ack, Accuracy: 60.71%\n",
      "restart, Accuracy: 92.86%\n",
      "deny, Accuracy: 81.48%\n",
      "reqmore, Accuracy: 100.00%\n"
     ]
    }
   ],
   "source": [
    "from collections import defaultdict\n",
    "\n",
    "def calculate_accuracy_per_label(labels, predictions):\n",
    "    label_counts = defaultdict(int)  # To count occurrences of each label\n",
    "    correct_counts = defaultdict(int)  # To count correct predictions for each label\n",
    "\n",
    "    for label, prediction in zip(labels, predictions):\n",
    "        label_counts[label] += 1\n",
    "        if label == prediction:\n",
    "            correct_counts[label] += 1\n",
    "\n",
    "    accuracy_per_label = {}\n",
    "    for label in label_counts:\n",
    "        total = label_counts[label]\n",
    "        correct = correct_counts[label]\n",
    "        accuracy_per_label[label] = (correct / total) * 100 if total > 0 else 0\n",
    "    \n",
    "    return accuracy_per_label\n",
    "\n",
    "accuracy_per_label = calculate_accuracy_per_label(data['label'], data['prediction'])\n",
    "\n",
    "# Print or inspect the accuracy per label\n",
    "for label, accuracy in accuracy_per_label.items():\n",
    "    print(f\"{label}, Accuracy: {accuracy:.2f}%\")\n"
   ]
  },
  {
   "cell_type": "code",
   "execution_count": 11,
   "id": "429d7738-08be-47a8-95ef-3947c9af47aa",
   "metadata": {},
   "outputs": [],
   "source": [
    "def classify_sentence(sentence):\n",
    "    for label, words in keywords.items():\n",
    "        if any(word in sentence.lower() for word in words):\n",
    "            return label\n",
    "    return 'Unknown'  # Default label if no keywords are matched"
   ]
  },
  {
   "cell_type": "code",
   "execution_count": 12,
   "id": "36a12eae-1bba-4dca-8c5b-b29d32555677",
   "metadata": {},
   "outputs": [],
   "source": [
    "def manual_test_model(classify_function):\n",
    "    while True:\n",
    "        sentence = input(\"Enter a sentence to classify (or type 'exit' to stop): \")\n",
    "        \n",
    "        if sentence.lower() == 'exit':\n",
    "            print(\"Exiting the classifier.\")\n",
    "            break\n",
    "        \n",
    "        label = classify_function(sentence)\n",
    "        print(f\"Classified as: {label}\")"
   ]
  },
  {
   "cell_type": "code",
   "execution_count": 13,
   "id": "d29f8cef-af59-49e7-be7a-37255d0c69ae",
   "metadata": {},
   "outputs": [
    {
     "name": "stdin",
     "output_type": "stream",
     "text": [
      "Enter a sentence to classify (or type 'exit' to stop):  exit\n"
     ]
    },
    {
     "name": "stdout",
     "output_type": "stream",
     "text": [
      "Exiting the classifier.\n"
     ]
    }
   ],
   "source": [
    "manual_test_model(classify_sentence)"
   ]
  },
  {
   "cell_type": "markdown",
   "id": "717aa010-c1cb-43fd-814d-674c39aca6dd",
   "metadata": {},
   "source": [
    "# Feed Forward Neural Network"
   ]
  },
  {
   "cell_type": "code",
   "execution_count": 14,
   "id": "94eb5aea-5f47-447d-925d-c4fd32855795",
   "metadata": {},
   "outputs": [
    {
     "name": "stdout",
     "output_type": "stream",
     "text": [
      "WARNING:tensorflow:From C:\\Users\\storm\\AppData\\Local\\Programs\\Python\\Python310\\lib\\site-packages\\keras\\src\\losses.py:2976: The name tf.losses.sparse_softmax_cross_entropy is deprecated. Please use tf.compat.v1.losses.sparse_softmax_cross_entropy instead.\n",
      "\n"
     ]
    }
   ],
   "source": [
    "from sklearn.metrics import confusion_matrix as sklearn_confusion_matrix\n",
    "import seaborn as sns\n",
    "import matplotlib.pyplot as plt\n",
    "from sklearn.metrics import classification_report\n",
    "\n",
    "import numpy as np\n",
    "import pandas as pd\n",
    "import tensorflow as tf\n",
    "from tensorflow.keras import layers, models\n",
    "from sklearn.preprocessing import LabelEncoder\n",
    "from sklearn.model_selection import train_test_split\n",
    "from tensorflow.keras.preprocessing.text import Tokenizer\n",
    "from tensorflow.keras.preprocessing.sequence import pad_sequences"
   ]
  },
  {
   "cell_type": "code",
   "execution_count": 15,
   "id": "3745d7a5-4350-46ce-8ca7-c2dda86f5d75",
   "metadata": {},
   "outputs": [],
   "source": [
    "# Convert all labels to numbers\n",
    "le = LabelEncoder()\n",
    "data['label'] = le.fit_transform(data['label'])"
   ]
  },
  {
   "cell_type": "code",
   "execution_count": 16,
   "id": "d276ba05-68df-4389-8a89-ad03313625fc",
   "metadata": {},
   "outputs": [],
   "source": [
    "max_words = 10000  # Maximum number of words\n",
    "max_len = 128  # Maximum sentence length"
   ]
  },
  {
   "cell_type": "code",
   "execution_count": 17,
   "id": "1fa736ac-01b3-41f2-b89e-f1990048a007",
   "metadata": {},
   "outputs": [],
   "source": [
    "def tokenize_data(data):\n",
    "    tokenizer = Tokenizer(num_words=max_words, oov_token='<OOV>')\n",
    "    tokenizer.fit_on_texts(data['sentence'])\n",
    "    sequences = tokenizer.texts_to_sequences(data['sentence'])\n",
    "    padded_sequences = pad_sequences(sequences, maxlen=max_len, padding='post')\n",
    "    return padded_sequences"
   ]
  },
  {
   "cell_type": "code",
   "execution_count": 18,
   "id": "09aa52b5-788b-41c9-875c-f8801cad0d70",
   "metadata": {},
   "outputs": [],
   "source": [
    "padded_sequences = tokenize_data(data)"
   ]
  },
  {
   "cell_type": "code",
   "execution_count": 19,
   "id": "8f8b9803-5917-4794-b5bd-c240051851e1",
   "metadata": {},
   "outputs": [],
   "source": [
    "train_sentences, test_sentences, train_labels, test_labels = train_test_split(\n",
    "    padded_sequences, data['label'], test_size=0.2, random_state=42\n",
    ")"
   ]
  },
  {
   "cell_type": "code",
   "execution_count": 20,
   "id": "309b4136-31d8-48d5-a49e-c4d401862876",
   "metadata": {},
   "outputs": [],
   "source": [
    "def create_model():\n",
    "    model = models.Sequential()\n",
    "    \n",
    "    model.add(layers.Embedding(input_dim=max_words, output_dim=128, input_length=max_len))\n",
    "    model.add(layers.Flatten())\n",
    "    model.add(layers.Dense(256, activation='relu'))\n",
    "    model.add(layers.Dense(15, activation='softmax'))  # 15 classes\n",
    "    \n",
    "    model.compile(optimizer=tf.keras.optimizers.Adam(learning_rate=0.001),\n",
    "                  loss='sparse_categorical_crossentropy',\n",
    "                  metrics=['accuracy'])\n",
    "    \n",
    "    return model"
   ]
  },
  {
   "cell_type": "code",
   "execution_count": 21,
   "id": "6254e620-ae3a-4253-a129-b58ac4be7cdd",
   "metadata": {},
   "outputs": [
    {
     "name": "stdout",
     "output_type": "stream",
     "text": [
      "WARNING:tensorflow:From C:\\Users\\storm\\AppData\\Local\\Programs\\Python\\Python310\\lib\\site-packages\\keras\\src\\backend.py:873: The name tf.get_default_graph is deprecated. Please use tf.compat.v1.get_default_graph instead.\n",
      "\n",
      "Model: \"sequential\"\n",
      "_________________________________________________________________\n",
      " Layer (type)                Output Shape              Param #   \n",
      "=================================================================\n",
      " embedding (Embedding)       (None, 128, 128)          1280000   \n",
      "                                                                 \n",
      " flatten (Flatten)           (None, 16384)             0         \n",
      "                                                                 \n",
      " dense (Dense)               (None, 256)               4194560   \n",
      "                                                                 \n",
      " dense_1 (Dense)             (None, 15)                3855      \n",
      "                                                                 \n",
      "=================================================================\n",
      "Total params: 5478415 (20.90 MB)\n",
      "Trainable params: 5478415 (20.90 MB)\n",
      "Non-trainable params: 0 (0.00 Byte)\n",
      "_________________________________________________________________\n"
     ]
    }
   ],
   "source": [
    "model = create_model()\n",
    "model.summary()"
   ]
  },
  {
   "cell_type": "code",
   "execution_count": 22,
   "id": "c904880a-8b30-465d-b46a-fda817d66920",
   "metadata": {},
   "outputs": [
    {
     "name": "stdout",
     "output_type": "stream",
     "text": [
      "WARNING:tensorflow:From C:\\Users\\storm\\AppData\\Local\\Programs\\Python\\Python310\\lib\\site-packages\\keras\\src\\utils\\tf_utils.py:492: The name tf.ragged.RaggedTensorValue is deprecated. Please use tf.compat.v1.ragged.RaggedTensorValue instead.\n",
      "\n",
      "WARNING:tensorflow:From C:\\Users\\storm\\AppData\\Local\\Programs\\Python\\Python310\\lib\\site-packages\\keras\\src\\engine\\base_layer_utils.py:384: The name tf.executing_eagerly_outside_functions is deprecated. Please use tf.compat.v1.executing_eagerly_outside_functions instead.\n",
      "\n",
      "1020/1020 [==============================] - 32s 30ms/step - loss: 0.3050 - accuracy: 0.9149 - val_loss: 0.1038 - val_accuracy: 0.9721\n"
     ]
    }
   ],
   "source": [
    "history = model.fit(train_sentences, train_labels, epochs=1, batch_size=16, validation_split=0.2)"
   ]
  },
  {
   "cell_type": "code",
   "execution_count": 23,
   "id": "36401d78-ccb8-49cb-be5e-d5c4c8cac7a6",
   "metadata": {},
   "outputs": [],
   "source": [
    "def model_report(model, sentences):\n",
    "    predictions = model.predict(test_sentences)\n",
    "    predicted_labels = np.argmax(predictions, axis=1)\n",
    "    \n",
    "    all_classes = list(range(15))\n",
    "    report = classification_report(test_labels, predicted_labels, labels=all_classes, target_names=[f'{le.inverse_transform([i])[0]}' for i in all_classes])\n",
    "    print(report)"
   ]
  },
  {
   "cell_type": "code",
   "execution_count": 24,
   "id": "97fe02ef-7e7d-428c-86c1-47d4cd78f9f5",
   "metadata": {},
   "outputs": [
    {
     "name": "stdout",
     "output_type": "stream",
     "text": [
      "160/160 [==============================] - 0s 2ms/step\n",
      "              precision    recall  f1-score   support\n",
      "\n",
      "         ack       0.00      0.00      0.00         5\n",
      "      affirm       0.99      0.99      0.99       247\n",
      "         bye       0.89      0.85      0.87        46\n",
      "     confirm       0.94      0.97      0.96        33\n",
      "        deny       0.00      0.00      0.00         7\n",
      "       hello       0.85      0.69      0.76        16\n",
      "      inform       0.98      0.99      0.98      2041\n",
      "      negate       1.00      0.98      0.99        81\n",
      "        null       0.96      0.86      0.91       309\n",
      "      repeat       0.50      0.25      0.33         4\n",
      "     reqalts       0.93      0.99      0.96       368\n",
      "     reqmore       0.00      0.00      0.00         2\n",
      "     request       0.99      1.00      0.99      1305\n",
      "     restart       0.00      0.00      0.00         3\n",
      "    thankyou       0.99      0.99      0.99       634\n",
      "\n",
      "    accuracy                           0.98      5101\n",
      "   macro avg       0.67      0.64      0.65      5101\n",
      "weighted avg       0.97      0.98      0.97      5101\n",
      "\n"
     ]
    },
    {
     "name": "stderr",
     "output_type": "stream",
     "text": [
      "C:\\Users\\storm\\AppData\\Local\\Programs\\Python\\Python310\\lib\\site-packages\\sklearn\\metrics\\_classification.py:1471: UndefinedMetricWarning: Precision and F-score are ill-defined and being set to 0.0 in labels with no predicted samples. Use `zero_division` parameter to control this behavior.\n",
      "  _warn_prf(average, modifier, msg_start, len(result))\n",
      "C:\\Users\\storm\\AppData\\Local\\Programs\\Python\\Python310\\lib\\site-packages\\sklearn\\metrics\\_classification.py:1471: UndefinedMetricWarning: Precision and F-score are ill-defined and being set to 0.0 in labels with no predicted samples. Use `zero_division` parameter to control this behavior.\n",
      "  _warn_prf(average, modifier, msg_start, len(result))\n",
      "C:\\Users\\storm\\AppData\\Local\\Programs\\Python\\Python310\\lib\\site-packages\\sklearn\\metrics\\_classification.py:1471: UndefinedMetricWarning: Precision and F-score are ill-defined and being set to 0.0 in labels with no predicted samples. Use `zero_division` parameter to control this behavior.\n",
      "  _warn_prf(average, modifier, msg_start, len(result))\n"
     ]
    }
   ],
   "source": [
    "model_report(model, test_sentences)"
   ]
  },
  {
   "cell_type": "code",
   "execution_count": 25,
   "id": "8a916508-9aa8-4bba-96aa-55f11ccd91ce",
   "metadata": {},
   "outputs": [],
   "source": [
    "def confusion_matrix(sentences, labels):\n",
    "    # Get the predictions for the test set\n",
    "    y_pred = model.predict(sentences)\n",
    "    y_pred_labels = np.argmax(y_pred, axis=1)  # Convert probabilities to predicted class labels\n",
    "    y_true_labels = labels\n",
    "    \n",
    "    cm = sklearn_confusion_matrix(y_true_labels, y_pred_labels)\n",
    "    \n",
    "    class_names = le.inverse_transform(np.unique(y_true_labels))\n",
    "    \n",
    "    plt.figure(figsize=(10, 8))\n",
    "    sns.heatmap(cm, annot=True, fmt='d', cmap='Blues', xticklabels=class_names, yticklabels=class_names)\n",
    "    plt.xlabel('Predicted')\n",
    "    plt.ylabel('True')\n",
    "    plt.title('Confusion Matrix')\n",
    "    plt.show()"
   ]
  },
  {
   "cell_type": "code",
   "execution_count": 26,
   "id": "3c907738-fe7e-400f-9573-3d505b32065f",
   "metadata": {},
   "outputs": [
    {
     "name": "stdout",
     "output_type": "stream",
     "text": [
      "160/160 [==============================] - 0s 2ms/step\n"
     ]
    },
    {
     "data": {
      "image/png": "[encoded data removed]",
      "text/plain": [
       "<Figure size 1000x800 with 2 Axes>"
      ]
     },
     "metadata": {},
     "output_type": "display_data"
    }
   ],
   "source": [
    "confusion_matrix(test_sentences, test_labels)"
   ]
  },
  {
   "cell_type": "code",
   "execution_count": 27,
   "id": "18fe83ce-4d19-4c05-852c-91f494f2c6dc",
   "metadata": {},
   "outputs": [
    {
     "name": "stdout",
     "output_type": "stream",
     "text": [
      "160/160 [==============================] - 1s 2ms/step - loss: 0.0942 - accuracy: 0.9753\n",
      "Test Accuracy: 97.53%\n"
     ]
    }
   ],
   "source": [
    "test_loss, test_acc = model.evaluate(test_sentences, test_labels)\n",
    "print(f\"Test Accuracy: {test_acc * 100:.2f}%\")"
   ]
  },
  {
   "cell_type": "code",
   "execution_count": 28,
   "id": "12d6167d-e5a8-44c8-873a-d3bcea074bae",
   "metadata": {},
   "outputs": [],
   "source": [
    "unique_labels = sorted(list(set(data['label'])))"
   ]
  },
  {
   "cell_type": "code",
   "execution_count": 29,
   "id": "372ed80f-c585-4199-882f-5a7bb8676394",
   "metadata": {},
   "outputs": [],
   "source": [
    "def classify_sentence_fnn(sentence):\n",
    "    sequence = tokenizer.texts_to_sequences([sentence])\n",
    "    padded_sequence = pad_sequences(sequence, maxlen=128, padding='post')\n",
    "    \n",
    "    prediction = model.predict(padded_sequence)\n",
    "    \n",
    "    predicted_label_index = np.argmax(prediction, axis=1)[0]\n",
    "    predicted_label = le.inverse_transform([predicted_label_index])[0]\n",
    "\n",
    "    return predicted_label"
   ]
  },
  {
   "cell_type": "code",
   "execution_count": 30,
   "id": "54551130-713e-4c67-9adf-380dc8579a3f",
   "metadata": {},
   "outputs": [
    {
     "name": "stdin",
     "output_type": "stream",
     "text": [
      "Enter a sentence to classify (or type 'exit' to stop):  exit\n"
     ]
    },
    {
     "name": "stdout",
     "output_type": "stream",
     "text": [
      "Exiting the classifier.\n"
     ]
    }
   ],
   "source": [
    "manual_test_model(classify_sentence_fnn)"
   ]
  },
  {
   "cell_type": "markdown",
   "id": "8955097c-5566-42ba-9e16-381d71ba7b47",
   "metadata": {},
   "source": [
    "### Deduplicate"
   ]
  },
  {
   "cell_type": "code",
   "execution_count": 31,
   "id": "21498da7-e18d-47c5-bfbb-c647c3ce2db6",
   "metadata": {},
   "outputs": [],
   "source": [
    "df = pd.DataFrame(data)\n",
    "df_cleaned = df.drop_duplicates(subset=['label', 'sentence'])\n",
    "data_deduplicate = df_cleaned.to_dict(orient='list')\n",
    "data_deduplicate['label'] = np.array(data_deduplicate['label'])"
   ]
  },
  {
   "cell_type": "code",
   "execution_count": 32,
   "id": "49eb105f-3057-40cd-a848-8c5c6a0ac76e",
   "metadata": {},
   "outputs": [],
   "source": [
    "le_dedup = LabelEncoder()\n",
    "data_deduplicate['label'] = le_dedup.fit_transform(data_deduplicate['label'])"
   ]
  },
  {
   "cell_type": "code",
   "execution_count": 33,
   "id": "0b41784a-c9d4-4495-b8e9-fc5cf34f4d09",
   "metadata": {},
   "outputs": [
    {
     "name": "stdout",
     "output_type": "stream",
     "text": [
      "25501\n",
      "5359\n"
     ]
    }
   ],
   "source": [
    "print(len(data['sentence']))\n",
    "print(len(data_deduplicate['sentence']))"
   ]
  },
  {
   "cell_type": "code",
   "execution_count": 34,
   "id": "bb73d15e-847d-4ddd-a640-ea7789780551",
   "metadata": {},
   "outputs": [],
   "source": [
    "padded_sequences_dedup = tokenize_data(data_deduplicate)"
   ]
  },
  {
   "cell_type": "code",
   "execution_count": 35,
   "id": "b1556b52-4ad6-4d96-92b2-771793c4c2b1",
   "metadata": {},
   "outputs": [],
   "source": [
    "train_sentences_dedup, test_sentences_dedup, train_labels_dedup, test_labels_dedup = train_test_split(\n",
    "    padded_sequences_dedup, data_deduplicate['label'], test_size=0.2, random_state=42\n",
    ")"
   ]
  },
  {
   "cell_type": "code",
   "execution_count": 36,
   "id": "29350b2b-9548-4694-ac25-49fc92d24ade",
   "metadata": {},
   "outputs": [
    {
     "name": "stdout",
     "output_type": "stream",
     "text": [
      "Epoch 1/5\n",
      "215/215 [==============================] - 7s 32ms/step - loss: 0.9346 - accuracy: 0.7364 - val_loss: 0.5788 - val_accuracy: 0.8368\n",
      "Epoch 2/5\n",
      "215/215 [==============================] - 7s 31ms/step - loss: 0.3995 - accuracy: 0.8825 - val_loss: 0.4027 - val_accuracy: 0.8753\n",
      "Epoch 3/5\n",
      "215/215 [==============================] - 6s 30ms/step - loss: 0.2591 - accuracy: 0.9245 - val_loss: 0.3670 - val_accuracy: 0.8846\n",
      "Epoch 4/5\n",
      "215/215 [==============================] - 7s 30ms/step - loss: 0.1820 - accuracy: 0.9455 - val_loss: 0.3288 - val_accuracy: 0.8998\n",
      "Epoch 5/5\n",
      "215/215 [==============================] - 7s 33ms/step - loss: 0.1300 - accuracy: 0.9598 - val_loss: 0.3373 - val_accuracy: 0.8951\n"
     ]
    }
   ],
   "source": [
    "model_deduplicate = create_model()\n",
    "history_deduplicate = model_deduplicate.fit(train_sentences_dedup, train_labels_dedup, epochs=5, batch_size=16, validation_split=0.2)"
   ]
  },
  {
   "cell_type": "code",
   "execution_count": 37,
   "id": "bf1aad1c-1282-4cdc-a763-0f8e02225f8c",
   "metadata": {},
   "outputs": [
    {
     "name": "stdout",
     "output_type": "stream",
     "text": [
      "34/34 [==============================] - 0s 3ms/step - loss: 0.2838 - accuracy: 0.9049\n",
      "Test Accuracy: 90.49%\n"
     ]
    }
   ],
   "source": [
    "test_loss_deduplicate, test_acc_deduplicate = model_deduplicate.evaluate(test_sentences_dedup, test_labels_dedup)\n",
    "print(f\"Test Accuracy: {test_acc_deduplicate * 100:.2f}%\")"
   ]
  },
  {
   "cell_type": "code",
   "execution_count": 38,
   "id": "2f2814b0-3c46-45dc-a932-f6908ac69f54",
   "metadata": {},
   "outputs": [
    {
     "name": "stdout",
     "output_type": "stream",
     "text": [
      "160/160 [==============================] - 0s 3ms/step\n",
      "              precision    recall  f1-score   support\n",
      "\n",
      "         ack       0.00      0.00      0.00         5\n",
      "      affirm       0.00      0.00      0.00       247\n",
      "         bye       0.00      0.00      0.00        46\n",
      "     confirm       0.00      0.00      0.00        33\n",
      "        deny       0.00      0.00      0.00         7\n",
      "       hello       0.00      0.00      0.00        16\n",
      "      inform       0.34      0.51      0.41      2041\n",
      "      negate       0.00      0.00      0.00        81\n",
      "        null       0.12      0.35      0.18       309\n",
      "      repeat       0.00      0.00      0.00         4\n",
      "     reqalts       0.00      0.00      0.00       368\n",
      "     reqmore       0.00      0.00      0.00         2\n",
      "     request       0.32      0.23      0.27      1305\n",
      "     restart       0.00      0.00      0.00         3\n",
      "    thankyou       0.00      0.00      0.00       634\n",
      "\n",
      "    accuracy                           0.28      5101\n",
      "   macro avg       0.05      0.07      0.06      5101\n",
      "weighted avg       0.23      0.28      0.24      5101\n",
      "\n"
     ]
    },
    {
     "name": "stderr",
     "output_type": "stream",
     "text": [
      "C:\\Users\\storm\\AppData\\Local\\Programs\\Python\\Python310\\lib\\site-packages\\sklearn\\metrics\\_classification.py:1471: UndefinedMetricWarning: Precision and F-score are ill-defined and being set to 0.0 in labels with no predicted samples. Use `zero_division` parameter to control this behavior.\n",
      "  _warn_prf(average, modifier, msg_start, len(result))\n",
      "C:\\Users\\storm\\AppData\\Local\\Programs\\Python\\Python310\\lib\\site-packages\\sklearn\\metrics\\_classification.py:1471: UndefinedMetricWarning: Precision and F-score are ill-defined and being set to 0.0 in labels with no predicted samples. Use `zero_division` parameter to control this behavior.\n",
      "  _warn_prf(average, modifier, msg_start, len(result))\n",
      "C:\\Users\\storm\\AppData\\Local\\Programs\\Python\\Python310\\lib\\site-packages\\sklearn\\metrics\\_classification.py:1471: UndefinedMetricWarning: Precision and F-score are ill-defined and being set to 0.0 in labels with no predicted samples. Use `zero_division` parameter to control this behavior.\n",
      "  _warn_prf(average, modifier, msg_start, len(result))\n"
     ]
    }
   ],
   "source": [
    "model_report(model_deduplicate, test_sentences_dedup)"
   ]
  },
  {
   "cell_type": "code",
   "execution_count": 39,
   "id": "9acb9754-557b-4bd1-85f9-16b66bd98ed3",
   "metadata": {},
   "outputs": [
    {
     "name": "stdout",
     "output_type": "stream",
     "text": [
      "34/34 [==============================] - 0s 3ms/step\n"
     ]
    },
    {
     "data": {
      "image/png": "[encoded data removed]",
      "text/plain": [
       "<Figure size 1000x800 with 2 Axes>"
      ]
     },
     "metadata": {},
     "output_type": "display_data"
    }
   ],
   "source": [
    "confusion_matrix(test_sentences_dedup, test_labels_dedup)"
   ]
  },
  {
   "cell_type": "markdown",
   "id": "69e76bed-652c-400b-b84d-8650f9c6e3db",
   "metadata": {},
   "source": [
    "# Decision tree"
   ]
  },
  {
   "cell_type": "code",
   "execution_count": 40,
   "id": "344fb87b-519a-4eee-ad17-3e66d46a9616",
   "metadata": {},
   "outputs": [],
   "source": [
    "# imports\n",
    "from sklearn.feature_extraction.text import CountVectorizer\n",
    "from sklearn.tree import DecisionTreeClassifier\n",
    "from sklearn.metrics import accuracy_score"
   ]
  },
  {
   "cell_type": "code",
   "execution_count": 41,
   "id": "c13a98af-1d28-4cfe-b874-8a9222d9bcb5",
   "metadata": {},
   "outputs": [],
   "source": [
    "data_path = \"dialog_acts.dat\"\n",
    "def cargar_dataset(file_path):\n",
    "    data = []\n",
    "    with open(file_path, 'r') as file:\n",
    "        for line in file:\n",
    "            # space split\n",
    "            parts = line.strip().split(' ', 1)\n",
    "            if len(parts) == 2:\n",
    "                dialog_act, utterance_content = parts\n",
    "                data.append((dialog_act, utterance_content))\n",
    "            else:\n",
    "                print(f\"Incorrect line: {line}\")\n",
    "    return data\n",
    "\n",
    "data = cargar_dataset(data_path)"
   ]
  },
  {
   "cell_type": "code",
   "execution_count": 42,
   "id": "68252e4f-145f-43ec-af7d-bd9c2d7c59ad",
   "metadata": {},
   "outputs": [],
   "source": [
    "#convert text into Bag of Words representation\n",
    "def preprocess_data(data):\n",
    "    # sentence\n",
    "    utterances = [utterance for _, utterance in data]\n",
    "\n",
    "    # utterances into a Bag of Words representation\n",
    "    vectorizer = CountVectorizer(lowercase=True)  # Remove stop_words\n",
    "    X = vectorizer.fit_transform(utterances)  # Transform sentences into BoW\n",
    "    return X, vectorizer\n",
    "\n",
    "# Train the Decision Tree classifier\n",
    "def train_decision_tree_classifier(X_train, y_train):\n",
    "    # Adjusting hyperparameters to avoid overfitting and improve accuracy\n",
    "    clf_tree = DecisionTreeClassifier(\n",
    "        random_state=42,\n",
    "        max_depth=20,  # Limits the depth of the tree\n",
    "        min_samples_split=5,  # Minimum samples required to split an internal node\n",
    "        criterion='entropy'  # Using entropy as the criterion (information gain)\n",
    "    )\n",
    "    clf_tree.fit(X_train, y_train)\n",
    "    return clf_tree\n",
    "\n",
    "# Evaluate the classifier's performance\n",
    "def evaluate_model(model, X_test, y_test):\n",
    "    y_pred = model.predict(X_test)\n",
    "    accuracy = accuracy_score(y_test, y_pred)\n",
    "    print(f\"Decision Tree model accuracy: {accuracy:.2f}\")\n",
    "    print(classification_report(y_test, y_pred))\n",
    "\n",
    "# Interactive classification\n",
    "def classify_sentence(model, vectorizer):\n",
    "    while True:\n",
    "        input_sentence = input(\"\\nEnter a sentence (or 'exit' to quit): \")\n",
    "        if input_sentence.lower() == 'exit':\n",
    "            break\n",
    "        input_bow = vectorizer.transform([input_sentence])\n",
    "        prediction = model.predict(input_bow)\n",
    "        print(f\"The predicted dialog act is: {prediction[0]}\")\n"
   ]
  },
  {
   "cell_type": "code",
   "execution_count": 43,
   "id": "09986cb5-1e83-4b46-a801-db3e6953ce75",
   "metadata": {},
   "outputs": [
    {
     "name": "stdout",
     "output_type": "stream",
     "text": [
      "Decision Tree model accuracy: 0.95\n",
      "              precision    recall  f1-score   support\n",
      "\n",
      "         ack       0.00      0.00      0.00         5\n",
      "      affirm       0.99      0.94      0.97       180\n",
      "         bye       0.97      0.89      0.93        35\n",
      "     confirm       0.78      0.82      0.80        22\n",
      "        deny       0.00      0.00      0.00         6\n",
      "       hello       1.00      0.43      0.60        14\n",
      "      inform       0.91      0.99      0.95      1532\n",
      "      negate       1.00      1.00      1.00        69\n",
      "        null       0.98      0.72      0.83       232\n",
      "      repeat       0.00      0.00      0.00         3\n",
      "     reqalts       0.97      0.93      0.95       279\n",
      "     reqmore       0.00      0.00      0.00         1\n",
      "     request       0.99      0.97      0.98       972\n",
      "     restart       0.00      0.00      0.00         2\n",
      "    thankyou       1.00      1.00      1.00       474\n",
      "\n",
      "    accuracy                           0.95      3826\n",
      "   macro avg       0.64      0.58      0.60      3826\n",
      "weighted avg       0.95      0.95      0.95      3826\n",
      "\n"
     ]
    },
    {
     "name": "stderr",
     "output_type": "stream",
     "text": [
      "C:\\Users\\storm\\AppData\\Local\\Programs\\Python\\Python310\\lib\\site-packages\\sklearn\\metrics\\_classification.py:1471: UndefinedMetricWarning: Precision and F-score are ill-defined and being set to 0.0 in labels with no predicted samples. Use `zero_division` parameter to control this behavior.\n",
      "  _warn_prf(average, modifier, msg_start, len(result))\n",
      "C:\\Users\\storm\\AppData\\Local\\Programs\\Python\\Python310\\lib\\site-packages\\sklearn\\metrics\\_classification.py:1471: UndefinedMetricWarning: Precision and F-score are ill-defined and being set to 0.0 in labels with no predicted samples. Use `zero_division` parameter to control this behavior.\n",
      "  _warn_prf(average, modifier, msg_start, len(result))\n",
      "C:\\Users\\storm\\AppData\\Local\\Programs\\Python\\Python310\\lib\\site-packages\\sklearn\\metrics\\_classification.py:1471: UndefinedMetricWarning: Precision and F-score are ill-defined and being set to 0.0 in labels with no predicted samples. Use `zero_division` parameter to control this behavior.\n",
      "  _warn_prf(average, modifier, msg_start, len(result))\n"
     ]
    }
   ],
   "source": [
    "# Extract the labels (dialog acts) from the tuples\n",
    "labels = [dialog_act for dialog_act, _ in data]\n",
    "\n",
    "# Step 2: Preprocess the data\n",
    "X, vectorizer = preprocess_data(data)\n",
    "\n",
    "# Split the data into training and testing sets (increased test size for better generalization)\n",
    "X_train, X_test, y_train, y_test = train_test_split(X, labels, test_size=0.15, random_state=42)\n",
    "\n",
    "# Step 3: Train the Decision Tree classifier\n",
    "clf_tree = train_decision_tree_classifier(X_train, y_train)\n",
    "\n",
    "# Step 4: Evaluate the model's performance\n",
    "evaluate_model(clf_tree, X_test, y_test)"
   ]
  },
  {
   "cell_type": "code",
   "execution_count": 44,
   "id": "7f68025f-3b18-4a57-a6fa-402df53bfe2f",
   "metadata": {},
   "outputs": [
    {
     "name": "stdout",
     "output_type": "stream",
     "text": [
      "\n",
      "Interactive test with the Decision Tree model:\n"
     ]
    },
    {
     "ename": "KeyboardInterrupt",
     "evalue": "Interrupted by user",
     "output_type": "error",
     "traceback": [
      "\u001b[1;31m---------------------------------------------------------------------------\u001b[0m",
      "\u001b[1;31mKeyboardInterrupt\u001b[0m                         Traceback (most recent call last)",
      "Cell \u001b[1;32mIn[44], line 3\u001b[0m\n\u001b[0;32m      1\u001b[0m \u001b[38;5;66;03m# Interactive sentence classification\u001b[39;00m\n\u001b[0;32m      2\u001b[0m \u001b[38;5;28mprint\u001b[39m(\u001b[38;5;124m\"\u001b[39m\u001b[38;5;130;01m\\n\u001b[39;00m\u001b[38;5;124mInteractive test with the Decision Tree model:\u001b[39m\u001b[38;5;124m\"\u001b[39m)\n\u001b[1;32m----> 3\u001b[0m \u001b[43mclassify_sentence\u001b[49m\u001b[43m(\u001b[49m\u001b[43mclf_tree\u001b[49m\u001b[43m,\u001b[49m\u001b[43m \u001b[49m\u001b[43mvectorizer\u001b[49m\u001b[43m)\u001b[49m\n",
      "Cell \u001b[1;32mIn[42], line 33\u001b[0m, in \u001b[0;36mclassify_sentence\u001b[1;34m(model, vectorizer)\u001b[0m\n\u001b[0;32m     31\u001b[0m \u001b[38;5;28;01mdef\u001b[39;00m \u001b[38;5;21mclassify_sentence\u001b[39m(model, vectorizer):\n\u001b[0;32m     32\u001b[0m     \u001b[38;5;28;01mwhile\u001b[39;00m \u001b[38;5;28;01mTrue\u001b[39;00m:\n\u001b[1;32m---> 33\u001b[0m         input_sentence \u001b[38;5;241m=\u001b[39m \u001b[38;5;28;43minput\u001b[39;49m\u001b[43m(\u001b[49m\u001b[38;5;124;43m\"\u001b[39;49m\u001b[38;5;130;43;01m\\n\u001b[39;49;00m\u001b[38;5;124;43mEnter a sentence (or \u001b[39;49m\u001b[38;5;124;43m'\u001b[39;49m\u001b[38;5;124;43mexit\u001b[39;49m\u001b[38;5;124;43m'\u001b[39;49m\u001b[38;5;124;43m to quit): \u001b[39;49m\u001b[38;5;124;43m\"\u001b[39;49m\u001b[43m)\u001b[49m\n\u001b[0;32m     34\u001b[0m         \u001b[38;5;28;01mif\u001b[39;00m input_sentence\u001b[38;5;241m.\u001b[39mlower() \u001b[38;5;241m==\u001b[39m \u001b[38;5;124m'\u001b[39m\u001b[38;5;124mexit\u001b[39m\u001b[38;5;124m'\u001b[39m:\n\u001b[0;32m     35\u001b[0m             \u001b[38;5;28;01mbreak\u001b[39;00m\n",
      "File \u001b[1;32m~\\AppData\\Local\\Programs\\Python\\Python310\\lib\\site-packages\\ipykernel\\kernelbase.py:1282\u001b[0m, in \u001b[0;36mKernel.raw_input\u001b[1;34m(self, prompt)\u001b[0m\n\u001b[0;32m   1280\u001b[0m     msg \u001b[38;5;241m=\u001b[39m \u001b[38;5;124m\"\u001b[39m\u001b[38;5;124mraw_input was called, but this frontend does not support input requests.\u001b[39m\u001b[38;5;124m\"\u001b[39m\n\u001b[0;32m   1281\u001b[0m     \u001b[38;5;28;01mraise\u001b[39;00m StdinNotImplementedError(msg)\n\u001b[1;32m-> 1282\u001b[0m \u001b[38;5;28;01mreturn\u001b[39;00m \u001b[38;5;28;43mself\u001b[39;49m\u001b[38;5;241;43m.\u001b[39;49m\u001b[43m_input_request\u001b[49m\u001b[43m(\u001b[49m\n\u001b[0;32m   1283\u001b[0m \u001b[43m    \u001b[49m\u001b[38;5;28;43mstr\u001b[39;49m\u001b[43m(\u001b[49m\u001b[43mprompt\u001b[49m\u001b[43m)\u001b[49m\u001b[43m,\u001b[49m\n\u001b[0;32m   1284\u001b[0m \u001b[43m    \u001b[49m\u001b[38;5;28;43mself\u001b[39;49m\u001b[38;5;241;43m.\u001b[39;49m\u001b[43m_parent_ident\u001b[49m\u001b[43m[\u001b[49m\u001b[38;5;124;43m\"\u001b[39;49m\u001b[38;5;124;43mshell\u001b[39;49m\u001b[38;5;124;43m\"\u001b[39;49m\u001b[43m]\u001b[49m\u001b[43m,\u001b[49m\n\u001b[0;32m   1285\u001b[0m \u001b[43m    \u001b[49m\u001b[38;5;28;43mself\u001b[39;49m\u001b[38;5;241;43m.\u001b[39;49m\u001b[43mget_parent\u001b[49m\u001b[43m(\u001b[49m\u001b[38;5;124;43m\"\u001b[39;49m\u001b[38;5;124;43mshell\u001b[39;49m\u001b[38;5;124;43m\"\u001b[39;49m\u001b[43m)\u001b[49m\u001b[43m,\u001b[49m\n\u001b[0;32m   1286\u001b[0m \u001b[43m    \u001b[49m\u001b[43mpassword\u001b[49m\u001b[38;5;241;43m=\u001b[39;49m\u001b[38;5;28;43;01mFalse\u001b[39;49;00m\u001b[43m,\u001b[49m\n\u001b[0;32m   1287\u001b[0m \u001b[43m\u001b[49m\u001b[43m)\u001b[49m\n",
      "File \u001b[1;32m~\\AppData\\Local\\Programs\\Python\\Python310\\lib\\site-packages\\ipykernel\\kernelbase.py:1325\u001b[0m, in \u001b[0;36mKernel._input_request\u001b[1;34m(self, prompt, ident, parent, password)\u001b[0m\n\u001b[0;32m   1322\u001b[0m \u001b[38;5;28;01mexcept\u001b[39;00m \u001b[38;5;167;01mKeyboardInterrupt\u001b[39;00m:\n\u001b[0;32m   1323\u001b[0m     \u001b[38;5;66;03m# re-raise KeyboardInterrupt, to truncate traceback\u001b[39;00m\n\u001b[0;32m   1324\u001b[0m     msg \u001b[38;5;241m=\u001b[39m \u001b[38;5;124m\"\u001b[39m\u001b[38;5;124mInterrupted by user\u001b[39m\u001b[38;5;124m\"\u001b[39m\n\u001b[1;32m-> 1325\u001b[0m     \u001b[38;5;28;01mraise\u001b[39;00m \u001b[38;5;167;01mKeyboardInterrupt\u001b[39;00m(msg) \u001b[38;5;28;01mfrom\u001b[39;00m \u001b[38;5;28;01mNone\u001b[39;00m\n\u001b[0;32m   1326\u001b[0m \u001b[38;5;28;01mexcept\u001b[39;00m \u001b[38;5;167;01mException\u001b[39;00m:\n\u001b[0;32m   1327\u001b[0m     \u001b[38;5;28mself\u001b[39m\u001b[38;5;241m.\u001b[39mlog\u001b[38;5;241m.\u001b[39mwarning(\u001b[38;5;124m\"\u001b[39m\u001b[38;5;124mInvalid Message:\u001b[39m\u001b[38;5;124m\"\u001b[39m, exc_info\u001b[38;5;241m=\u001b[39m\u001b[38;5;28;01mTrue\u001b[39;00m)\n",
      "\u001b[1;31mKeyboardInterrupt\u001b[0m: Interrupted by user"
     ]
    }
   ],
   "source": [
    "# Interactive sentence classification\n",
    "print(\"\\nInteractive test with the Decision Tree model:\")\n",
    "classify_sentence(clf_tree, vectorizer)"
   ]
  },
  {
   "cell_type": "code",
   "execution_count": null,
   "id": "2c358722-06f5-47e5-852c-0a27898c8852",
   "metadata": {},
   "outputs": [],
   "source": [
    "# Accuracy - Training set\n",
    "train_predictions = clf_tree.predict(X_train)\n",
    "train_accuracy = accuracy_score(y_train, train_predictions)\n",
    "\n",
    "# Accuracy - Test set\n",
    "test_predictions = clf_tree.predict(X_test)\n",
    "test_accuracy = accuracy_score(y_test, test_predictions)\n",
    "\n",
    "print(f\"Training Accuracy: {train_accuracy}\")\n",
    "print(f\"Test Accuracy: {test_accuracy}\")"
   ]
  },
  {
   "cell_type": "markdown",
   "id": "40153c74-cc32-487a-a402-b616bead50b4",
   "metadata": {},
   "source": [
    "# CVM"
   ]
  },
  {
   "cell_type": "code",
   "execution_count": null,
   "id": "65de376e-3738-4975-ab9b-9d3121c5ae14",
   "metadata": {},
   "outputs": [],
   "source": [
    "from sklearn.feature_extraction.text import TfidfVectorizer\n",
    "from sklearn.svm import SVC\n",
    "import matplotlib\n",
    "matplotlib.use('TkAgg')"
   ]
  },
  {
   "cell_type": "code",
   "execution_count": null,
   "id": "6c6ac250-8367-48ca-839d-a1eb3d525d4b",
   "metadata": {},
   "outputs": [],
   "source": [
    "# Process files: read and classify line by line\n",
    "def process_file(filepath):\n",
    "    labeled_lines = []\n",
    "    try:\n",
    "        with open(filepath, 'r', encoding='utf-8') as file:\n",
    "            lines = file.readlines()\n",
    "\n",
    "        for line in lines:\n",
    "            # Ensure that line contains both label and sentence\n",
    "            if len(line.strip().split(\" \", 1)) == 2:\n",
    "                # Extract original label and sentence\n",
    "                original_label, sentence = line.split(\" \", 1)\n",
    "                original_label = original_label.strip()\n",
    "                sentence = sentence.strip()\n",
    "\n",
    "                # Store original label and sentence\n",
    "                labeled_lines.append((original_label, sentence))\n",
    "            else:\n",
    "                print(f\"Line skipped due to incorrect format: {line.strip()}\")\n",
    "\n",
    "    except FileNotFoundError:\n",
    "        print(f\"File not found: {filepath}\")\n",
    "    except Exception as e:\n",
    "        print(f\"Error while processing file: {e}\")\n",
    "\n",
    "    return labeled_lines"
   ]
  },
  {
   "cell_type": "code",
   "execution_count": null,
   "id": "7420c572-24ef-4faf-8ab7-9d78151d7a3e",
   "metadata": {},
   "outputs": [],
   "source": [
    "# Function to remove duplicates\n",
    "def remove_duplicates(labeled_lines):\n",
    "    seen_sentences = set()\n",
    "    deduplicated_lines = []\n",
    "\n",
    "    for label, sentence in labeled_lines:\n",
    "        if sentence not in seen_sentences:\n",
    "            deduplicated_lines.append((label, sentence))\n",
    "            seen_sentences.add(sentence)\n",
    "\n",
    "    return deduplicated_lines"
   ]
  },
  {
   "cell_type": "code",
   "execution_count": null,
   "id": "b07f69c6-5bd7-4003-ae0d-f79754f48f2e",
   "metadata": {},
   "outputs": [],
   "source": [
    "def save_deduplicated_data(input_file, output_file):\n",
    "    labeled_lines = process_file(input_file) \n",
    "    deduplicated_lines = remove_duplicates(labeled_lines) \n",
    "\n",
    "\n",
    "    with open(output_file, 'w', encoding='utf-8') as file:\n",
    "        for label, sentence in deduplicated_lines:\n",
    "            file.write(f\"{label} {sentence}\\n\")\n",
    "\n",
    "    print(f\"Deduplicated data saved to {output_file}\")"
   ]
  },
  {
   "cell_type": "code",
   "execution_count": null,
   "id": "981f76de-80d8-42e3-8988-534c0a05809f",
   "metadata": {},
   "outputs": [],
   "source": [
    "save_deduplicated_data('dialog_acts.dat', 'deduplicated_data.txt')"
   ]
  },
  {
   "cell_type": "code",
   "execution_count": null,
   "id": "5ff81bef-b66c-43ef-b108-888d2101fd57",
   "metadata": {},
   "outputs": [],
   "source": [
    "def plot_class_distribution_comparison(original_data, deduplicated_data):\n",
    "    # Convert data to DataFrames\n",
    "    df_original = pd.DataFrame(original_data, columns=['label', 'sentence'])\n",
    "    df_deduplicated = pd.DataFrame(deduplicated_data, columns=['label', 'sentence'])\n",
    "\n",
    "    # Calculate class distribution for each type\n",
    "    original_distribution = df_original['label'].value_counts().sort_index()\n",
    "    deduplicated_distribution = df_deduplicated['label'].value_counts().sort_index()\n",
    "\n",
    "    # Combine into a single DataFrame\n",
    "    comparison_df = pd.DataFrame({\n",
    "        'Original Data': original_distribution,\n",
    "        'Deduplicated Data': deduplicated_distribution\n",
    "    }).fillna(0)\n",
    "\n",
    "    # Plotting\n",
    "    ax = comparison_df.plot(kind='bar', figsize=(14, 8), width=0.8)\n",
    "    plt.title('Class Distribution Comparison')\n",
    "    plt.xlabel('Class')\n",
    "    plt.ylabel('Number of Samples')\n",
    "    plt.xticks(rotation=45, ha='right')\n",
    "    plt.grid(axis='y', linestyle='--', alpha=0.7)\n",
    "    plt.tight_layout()\n",
    "    plt.show()"
   ]
  },
  {
   "cell_type": "code",
   "execution_count": null,
   "id": "c8ae7d32-7b87-4784-8e23-0d250ae93106",
   "metadata": {},
   "outputs": [],
   "source": [
    "original_data = process_file('dialog_acts.dat')\n",
    "deduplicated_data = process_file('deduplicated_data.txt')  # Ensure this file exists and contains deduplicated data"
   ]
  },
  {
   "cell_type": "code",
   "execution_count": null,
   "id": "db272433-d2d3-4935-8682-440460cb66c5",
   "metadata": {},
   "outputs": [],
   "source": [
    "plot_class_distribution_comparison(original_data, deduplicated_data)"
   ]
  },
  {
   "cell_type": "code",
   "execution_count": null,
   "id": "13162a0c-d426-44e3-b31c-103188310740",
   "metadata": {},
   "outputs": [],
   "source": [
    "# Function to train and evaluate the model, and save results to a file\n",
    "def train_and_evaluate(labeled_lines, description, output_file):\n",
    "    # Extract sentences and labels\n",
    "    sentences = [sentence for _, sentence in labeled_lines]\n",
    "    labels = [label for label, _ in labeled_lines]\n",
    "\n",
    "    # Convert text data into TF-IDF features\n",
    "    vectorizer = TfidfVectorizer()\n",
    "    X = vectorizer.fit_transform(sentences)\n",
    "\n",
    "    # Split data into training and testing sets\n",
    "    X_train, X_test, y_train, y_test = train_test_split(X, labels, test_size=0.15, random_state=42)\n",
    "\n",
    "    # Train SVM classifier\n",
    "    svm_classifier = SVC(C=1.0, kernel='linear')  # Using linear kernel for simplicity\n",
    "    svm_classifier.fit(X_train, y_train)\n",
    "\n",
    "    # Predict labels for testing data\n",
    "    y_pred = svm_classifier.predict(X_test)\n",
    "\n",
    "    # Calculate accuracy\n",
    "    accuracy = accuracy_score(y_test, y_pred)\n",
    "    print(f\"{description} Accuracy: {accuracy * 100:.2f}%\")\n",
    "\n",
    "    # Calculate confusion matrix and classification report\n",
    "    cm = sklearn_confusion_matrix(y_test, y_pred, labels=svm_classifier.classes_)\n",
    "    labels = svm_classifier.classes_  # Use the labels from the classifier\n",
    "    report = classification_report(y_test, y_pred, labels=labels, target_names=labels, output_dict=True, zero_division=0)\n",
    "\n",
    "    # Save the test results to a file\n",
    "    with open(output_file, 'w', encoding='utf-8') as f:\n",
    "        f.write(\"Original Label\\tPredicted Label\\tSentence\\n\")\n",
    "        for original_label, predicted_label, sentence in zip(y_test, y_pred, [sentences[i] for i in X_test.indices]):\n",
    "            f.write(f\"{original_label}\\t{predicted_label}\\t{sentence}\\n\")\n",
    "\n",
    "    print(f\"{description} results saved to {output_file}\")\n",
    "\n",
    "    return cm, report, labels"
   ]
  },
  {
   "cell_type": "code",
   "execution_count": null,
   "id": "290fa882-4970-4b04-af04-994f18982a51",
   "metadata": {},
   "outputs": [],
   "source": [
    "# Get results for original data\n",
    "cm_orig, report_orig, classes_orig = train_and_evaluate(original_data, \"Original Data\",\"original_data_results.txt\")\n",
    "\n",
    "# Get results for deduplicated data\n",
    "cm_dedup, report_dedup, classes_dedup = train_and_evaluate(deduplicated_data, \"Deduplicated Data\", \"deduplicated_data_results.txt\")\n",
    "\n",
    "# Ensure that classes are the same for both\n",
    "assert (classes_orig == classes_dedup).all(), \"Class labels should be the same for both datasets.\""
   ]
  },
  {
   "cell_type": "code",
   "execution_count": null,
   "id": "d936181f-e877-42d7-a516-c22a2dfe2202",
   "metadata": {},
   "outputs": [],
   "source": [
    "def plot_confusion_matrices_and_reports(cm_orig, cm_dedup, report_orig, report_dedup, classes):\n",
    "    # Prepare classification reports\n",
    "    df_report_orig = pd.DataFrame(report_orig).T\n",
    "    df_report_dedup = pd.DataFrame(report_dedup).T\n",
    "\n",
    "    # Remove 'support' column from reports for a cleaner view\n",
    "    df_report_orig = df_report_orig.drop(columns='support')\n",
    "    df_report_dedup = df_report_dedup.drop(columns='support')\n",
    "\n",
    "    # Plot confusion matrices\n",
    "    plt.figure(figsize=(16, 12))\n",
    "\n",
    "    plt.subplot(2, 2, 1)\n",
    "    sns.heatmap(cm_orig, annot=True, fmt='d', cmap='Blues', xticklabels=classes, yticklabels=classes)\n",
    "    plt.title('Confusion Matrix - Original Data')\n",
    "    plt.xlabel('Predicted')\n",
    "    plt.ylabel('True')\n",
    "\n",
    "    plt.subplot(2, 2, 2)\n",
    "    sns.heatmap(cm_dedup, annot=True, fmt='d', cmap='Blues', xticklabels=classes, yticklabels=classes)\n",
    "    plt.title('Confusion Matrix - Deduplicated Data')\n",
    "    plt.xlabel('Predicted')\n",
    "    plt.ylabel('True')\n",
    "\n",
    "    # Plot classification reports\n",
    "    plt.subplot(2, 2, 3)\n",
    "    sns.heatmap(df_report_orig, annot=True, cmap='coolwarm', fmt='.2f')\n",
    "    plt.title('Classification Report - Original Data')\n",
    "    plt.xticks(rotation=45)\n",
    "\n",
    "    plt.subplot(2, 2, 4)\n",
    "    sns.heatmap(df_report_dedup, annot=True, cmap='coolwarm', fmt='.2f')\n",
    "    plt.title('Classification Report - Deduplicated Data')\n",
    "    plt.xticks(rotation=45)\n",
    "\n",
    "    plt.tight_layout()\n",
    "    plt.show()"
   ]
  },
  {
   "cell_type": "code",
   "execution_count": null,
   "id": "622c8171-17a6-478d-80dd-1196b1b50dd2",
   "metadata": {},
   "outputs": [],
   "source": [
    "# Plot the results\n",
    "plot_confusion_matrices_and_reports(cm_orig, cm_dedup, report_orig, report_dedup, classes_orig)\n",
    "\n",
    "# Process files and create two datasets\n",
    "filepath = \"dialog_acts.dat\"  # File path containing original labels and sentences\n",
    "labeled_output = process_file(filepath)\n",
    "\n",
    "if labeled_output:\n",
    "    # Train and evaluate with original data and save results\n",
    "    train_and_evaluate(labeled_output, \"Original Data\", \"original_data_results.txt\")\n",
    "\n",
    "    # Remove duplicates\n",
    "    deduplicated_output = remove_duplicates(labeled_output)\n",
    "\n",
    "    # Train and evaluate with deduplicated data and save results\n",
    "    train_and_evaluate(deduplicated_output, \"Deduplicated Data\", \"deduplicated_data_results.txt\")\n",
    "else:\n",
    "    print(\"No data to process.\")"
   ]
  },
  {
   "cell_type": "code",
   "execution_count": null,
   "id": "20aab38f-5e46-4a00-a503-8d87cfb14211",
   "metadata": {},
   "outputs": [],
   "source": []
  }
 ],
 "metadata": {
  "kernelspec": {
   "display_name": "Python 3 (ipykernel)",
   "language": "python",
   "name": "python3"
  },
  "language_info": {
   "codemirror_mode": {
    "name": "ipython",
    "version": 3
   },
   "file_extension": ".py",
   "mimetype": "text/x-python",
   "name": "python",
   "nbconvert_exporter": "python",
   "pygments_lexer": "ipython3",
   "version": "3.10.11"
  }
 },
 "nbformat": 4,
 "nbformat_minor": 5
}
